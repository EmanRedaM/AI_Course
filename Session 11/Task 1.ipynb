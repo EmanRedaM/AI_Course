{
 "cells": [
  {
   "cell_type": "markdown",
   "metadata": {},
   "source": [
    "# Session 11\n",
    "\n",
    "## Task 1\n",
    "\n",
    "**List all Characteristics to ensure Data Quality**  "
   ]
  },
  {
   "cell_type": "markdown",
   "metadata": {},
   "source": [
    "**Data quality is crucial – it assesses whether information can serve its purpose in a particular context (such as data analysis, for example). So, how do you determine the quality of a given set of information? There are data quality characteristics of which you should be aware.**\n",
    "<br>\n",
    "<br>\n",
    "\n",
    "**There are five traits that you’ll find within data quality: accuracy, completeness, reliability, relevance, and timeliness**\n",
    "1. Accuracy\n",
    "2. Completeness\n",
    "3. Reliability\n",
    "4. Relevance\n",
    "5. Timeliness"
   ]
  },
  {
   "cell_type": "markdown",
   "metadata": {},
   "source": [
    "## Accuracy"
   ]
  },
  {
   "cell_type": "markdown",
   "metadata": {},
   "source": [
    "**As the name implies, this data quality characteristic means that information is correct. To determine whether data is accurate or not, ask yourself if the information reflects a real-world situation. For example, in the realm of financial services, does a customer really have $1 million in his bank account?**\n",
    "<br>\n",
    "**Accuracy is a crucial data quality characteristic because inaccurate information can cause significant problems with severe consequences. We’ll use the example above – if there’s an error in a customer’s bank account, it could be because someone accessed it without his knowledge.**"
   ]
  },
  {
   "cell_type": "markdown",
   "metadata": {},
   "source": [
    "## Completeness"
   ]
  },
  {
   "cell_type": "markdown",
   "metadata": {},
   "source": [
    "**“Completeness” refers to how comprehensive the information is. When looking at data completeness, think about whether all of the data you need is available; you might need a customer’s first and last name, but the middle initial may be optional.**\n",
    "\n",
    "**Why does completeness matter as a data quality characteristic? If information is incomplete, it might be unusable. Let’s say you’re sending a mailing out. You need a customer’s last name to ensure the mail goes to the right address – without it, the data is incomplete.**"
   ]
  },
  {
   "cell_type": "markdown",
   "metadata": {},
   "source": [
    "## Reliability"
   ]
  },
  {
   "cell_type": "markdown",
   "metadata": {},
   "source": [
    "**In the realm of data quality characteristics, reliability means that a piece of information doesn’t contradict another piece of information in a different source or system. We’ll use an example from the healthcare field; if a patient’s birthday is January 1, 1970 in one system, yet it’s June 13, 1973 in another, the information is unreliable.** \n",
    "\n",
    "**Reliability is a vital data quality characteristic. When pieces of information contradict themselves, you can’t trust the data. You could make a mistake that could cost your firm money and reputational damage.** "
   ]
  },
  {
   "cell_type": "markdown",
   "metadata": {},
   "source": [
    "## Relevance"
   ]
  },
  {
   "cell_type": "markdown",
   "metadata": {},
   "source": [
    "**When you’re looking at data quality characteristics, relevance comes into play because there has to be a good reason as to why you’re collecting this information in the first place. You must consider whether you really need this information, or whether you’re collecting it just for the sake of it.**\n",
    "\n",
    "**Why does relevance matter as a data quality characteristic? If you’re gathering irrelevant information, you’re wasting time as well as money. Your analyses won’t be as valuable.** "
   ]
  },
  {
   "cell_type": "markdown",
   "metadata": {},
   "source": [
    "## Timeliness"
   ]
  },
  {
   "cell_type": "markdown",
   "metadata": {},
   "source": [
    "**Timeliness, as the name implies, refers to how up to date information is. If it was gathered in the past hour, then it’s timely – unless new information has come in that renders previous information useless.** \n",
    "\n",
    "**The timeliness of information is an important data quality characteristic, because information that isn’t timely can lead to people making the wrong decisions. In turn, that costs organizations time, money, and reputational damage.**\n",
    "\n",
    "**“Timeliness is an important data quality characteristic – out-of-date information costs companies time and money”**"
   ]
  },
  {
   "cell_type": "markdown",
   "metadata": {},
   "source": [
    " **In today’s business environment, data quality characteristics ensure that you get the most out of your information. When your information doesn’t meet these standards, it isn’t valuable. Precisely provides data quality solutions to improve the accuracy, completeness, reliability, relevance, and timeliness of your data.**"
   ]
  }
 ],
 "metadata": {
  "kernelspec": {
   "display_name": "Python 3",
   "language": "python",
   "name": "python3"
  },
  "language_info": {
   "codemirror_mode": {
    "name": "ipython",
    "version": 3
   },
   "file_extension": ".py",
   "mimetype": "text/x-python",
   "name": "python",
   "nbconvert_exporter": "python",
   "pygments_lexer": "ipython3",
   "version": "3.7.3"
  },
  "varInspector": {
   "cols": {
    "lenName": 16,
    "lenType": 16,
    "lenVar": 40
   },
   "kernels_config": {
    "python": {
     "delete_cmd_postfix": "",
     "delete_cmd_prefix": "del ",
     "library": "var_list.py",
     "varRefreshCmd": "print(var_dic_list())"
    },
    "r": {
     "delete_cmd_postfix": ") ",
     "delete_cmd_prefix": "rm(",
     "library": "var_list.r",
     "varRefreshCmd": "cat(var_dic_list()) "
    }
   },
   "types_to_exclude": [
    "module",
    "function",
    "builtin_function_or_method",
    "instance",
    "_Feature"
   ],
   "window_display": false
  }
 },
 "nbformat": 4,
 "nbformat_minor": 2
}
