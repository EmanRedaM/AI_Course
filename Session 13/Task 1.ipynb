{
 "cells": [
  {
   "cell_type": "markdown",
   "metadata": {},
   "source": [
    "# Session 13\n",
    "\n",
    "## Task 1\n",
    "\n",
    "**Get live data websites in different topics**"
   ]
  },
  {
   "cell_type": "markdown",
   "metadata": {},
   "source": [
    "### Internet Live Stats"
   ]
  },
  {
   "cell_type": "markdown",
   "metadata": {},
   "source": [
    "Want to see the number of internet users and activities increase right before your very eyes? With Internet Live Stats, you can see the total number of internet users and websites currently online. The site tallies the total number of emails sent, tweets published, and Google searches entered in a given day. And there's a slew of other mind-blowing internet stats to scroll through as well. <br>\n",
    "https://www.internetlivestats.com/"
   ]
  },
  {
   "cell_type": "markdown",
   "metadata": {},
   "source": [
    "### Emoji Tracker"
   ]
  },
  {
   "cell_type": "markdown",
   "metadata": {},
   "source": [
    "You know how popular emoji are, but did you know there's a site that tracks emoji use on Twitter as they're posted in real time? Upon visiting and approving the epilepsy warning, the site presents you with a grid of emoji icons and the number of times they've been tweeted. The data updates live, providing a raw view of the most common emoji—and, in a way, the most common emotions—at any given moment. <br>\n",
    "http://www.emojitracker.com/\n"
   ]
  },
  {
   "cell_type": "markdown",
   "metadata": {},
   "source": [
    "### Google Trends Visualizer"
   ]
  },
  {
   "cell_type": "markdown",
   "metadata": {},
   "source": [
    "Google Trends is a popular tool used to explore trending search topics. But not many people know about the associated visualizer that lets you view searches as they occur in real time.\n",
    "\n",
    "Of course, you can't see all searches at once (because that would be madness), but you can get a brief snapshot of some of the hottest searches. There's also an option to drill down by region, and to download the tool for use as a desktop screensaver.<br>\n",
    "https://trends.google.com/trends/hottrends/visualize?nrow=5&ncol=5\n"
   ]
  },
  {
   "cell_type": "markdown",
   "metadata": {},
   "source": [
    "### Tweeplers"
   ]
  },
  {
   "cell_type": "markdown",
   "metadata": {},
   "source": [
    "Tweeplers is the go-to site for observing trends on Twitter in real time. For a close look at how the entire world tweets, there's the Tweeplers Map, which features a heat map of all the current tweets coming in around the world and from where.<br>\n",
    "https://www.tweeplers.com/map/"
   ]
  },
  {
   "cell_type": "markdown",
   "metadata": {},
   "source": [
    "### Wikipedia Vision"
   ]
  },
  {
   "cell_type": "markdown",
   "metadata": {},
   "source": [
    "Wikipedia can be edited by anyone. That makes it inherently questionable but also more adaptable than traditional publishing sources. A beta tool called Wikipedia Vision tracks the edits left by anonymous users and displays them on a map as they happen. It also includes the link to the corresponding Wikipedia page.\n",
    "You can review chart information about edits occurring within the past 24 hours, as well as a snapshot of the most recent edits. <br>\n",
    "http://www.lkozma.net/wpv/index.html"
   ]
  }
 ],
 "metadata": {
  "kernelspec": {
   "display_name": "Python 3",
   "language": "python",
   "name": "python3"
  },
  "language_info": {
   "codemirror_mode": {
    "name": "ipython",
    "version": 3
   },
   "file_extension": ".py",
   "mimetype": "text/x-python",
   "name": "python",
   "nbconvert_exporter": "python",
   "pygments_lexer": "ipython3",
   "version": "3.7.3"
  },
  "varInspector": {
   "cols": {
    "lenName": 16,
    "lenType": 16,
    "lenVar": 40
   },
   "kernels_config": {
    "python": {
     "delete_cmd_postfix": "",
     "delete_cmd_prefix": "del ",
     "library": "var_list.py",
     "varRefreshCmd": "print(var_dic_list())"
    },
    "r": {
     "delete_cmd_postfix": ") ",
     "delete_cmd_prefix": "rm(",
     "library": "var_list.r",
     "varRefreshCmd": "cat(var_dic_list()) "
    }
   },
   "types_to_exclude": [
    "module",
    "function",
    "builtin_function_or_method",
    "instance",
    "_Feature"
   ],
   "window_display": false
  }
 },
 "nbformat": 4,
 "nbformat_minor": 2
}
