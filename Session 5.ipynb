{
 "cells": [
  {
   "cell_type": "markdown",
   "metadata": {},
   "source": [
    "# Session 5\n",
    "## Task 1\n",
    "\n",
    "**What is algorithms for search in python ?**\n",
    "\n",
    "**Searching Algorithms are designed to check for an element or retrieve an element from any data structure where it is stored. Based on the type of search operation, these algorithms are generally classified into two categories: <br>**\n",
    "\n",
    "1. Sequential Search: In this, the list or array is traversed sequentially and every element is checked. For example: Linear Search.\n",
    "2. Interval Search: These algorithms are specifically designed for searching in sorted data-structures. These type of searching algorithms are much more efficient than Linear Search as they repeatedly target the center of the search structure and divide the search space in half. For Example: Binary Search.\n",
    "\n",
    "**There are many different algorithms available to utilize when searching :**\n",
    "\n",
    "1. Membership Operators\n",
    "2. Linear Search\n",
    "3. Binary Search\n",
    "4. Jump Search\n",
    "5. Fibonacci Search\n",
    "6. Exponential Search\n",
    "7. Interpolation Search\n"
   ]
  },
  {
   "cell_type": "markdown",
   "metadata": {
    "heading_collapsed": true
   },
   "source": [
    "## Membership Operators\n",
    "\n",
    "**in - Returns True if the given element is a part of the structure.<br>\n",
    "not in - Returns True if the given element is not a part of the structure.**"
   ]
  },
  {
   "cell_type": "code",
   "execution_count": 1,
   "metadata": {
    "ExecuteTime": {
     "end_time": "2021-12-05T15:07:10.730017Z",
     "start_time": "2021-12-05T15:07:10.705805Z"
    },
    "hidden": true
   },
   "outputs": [
    {
     "data": {
      "text/plain": [
       "True"
      ]
     },
     "execution_count": 1,
     "metadata": {},
     "output_type": "execute_result"
    }
   ],
   "source": [
    "'apple' in ['orange', 'apple', 'grape']"
   ]
  },
  {
   "cell_type": "code",
   "execution_count": 3,
   "metadata": {
    "ExecuteTime": {
     "end_time": "2021-12-05T15:08:02.284952Z",
     "start_time": "2021-12-05T15:08:02.268969Z"
    },
    "hidden": true
   },
   "outputs": [
    {
     "data": {
      "text/plain": [
       "True"
      ]
     },
     "execution_count": 3,
     "metadata": {},
     "output_type": "execute_result"
    }
   ],
   "source": [
    "'t' in 'stackabuse'"
   ]
  },
  {
   "cell_type": "markdown",
   "metadata": {
    "heading_collapsed": true
   },
   "source": [
    "# Linear Search\n",
    "\n",
    "**Linear search is one of the simplest searching algorithms, and the easiest to understand. We can think of it as a ramped-up version of our own implementation of Python's in operator. <br>**\n",
    "\n",
    "**The time complexity of linear search is O(n) <br>**\n",
    "**It is used to search any element in a linear data structure like arrays and linked lists.**"
   ]
  },
  {
   "cell_type": "code",
   "execution_count": 4,
   "metadata": {
    "ExecuteTime": {
     "end_time": "2021-12-05T15:09:45.774051Z",
     "start_time": "2021-12-05T15:09:45.758050Z"
    },
    "hidden": true
   },
   "outputs": [],
   "source": [
    "def LinearSearch(lys, element):\n",
    "    for i in range (len(lys)):\n",
    "        if lys[i] == element:\n",
    "            return i\n",
    "    return -1"
   ]
  },
  {
   "cell_type": "code",
   "execution_count": 5,
   "metadata": {
    "ExecuteTime": {
     "end_time": "2021-12-05T15:10:07.067146Z",
     "start_time": "2021-12-05T15:10:07.059150Z"
    },
    "hidden": true
   },
   "outputs": [
    {
     "name": "stdout",
     "output_type": "stream",
     "text": [
      "1\n"
     ]
    }
   ],
   "source": [
    " print(LinearSearch([1,2,3,4,5,2,1], 2))"
   ]
  },
  {
   "cell_type": "markdown",
   "metadata": {
    "heading_collapsed": true
   },
   "source": [
    "# Binary Search\n",
    "\n",
    "**Binary search follows a divide and conquer methodology. It is faster than linear search but requires that the array be sorted before the algorithm is executed.**\n",
    "\n",
    "**The time complexity of binary search O(log n) <br>**\n",
    "**It is used to search any element in a linear data structure like arrays and linked lists**\n"
   ]
  },
  {
   "cell_type": "code",
   "execution_count": 6,
   "metadata": {
    "ExecuteTime": {
     "end_time": "2021-12-05T15:14:24.902945Z",
     "start_time": "2021-12-05T15:14:24.886926Z"
    },
    "hidden": true
   },
   "outputs": [],
   "source": [
    "def BinarySearch(lys, val):\n",
    "    first = 0\n",
    "    last = len(lys)-1\n",
    "    index = -1\n",
    "    while (first <= last) and (index == -1):\n",
    "        mid = (first+last)//2\n",
    "        if lys[mid] == val:\n",
    "            index = mid\n",
    "        else:\n",
    "            if val<lys[mid]:\n",
    "                last = mid -1\n",
    "            else:\n",
    "                first = mid +1\n",
    "    return index"
   ]
  },
  {
   "cell_type": "code",
   "execution_count": 7,
   "metadata": {
    "ExecuteTime": {
     "end_time": "2021-12-05T15:14:42.014678Z",
     "start_time": "2021-12-05T15:14:41.998689Z"
    },
    "hidden": true
   },
   "outputs": [
    {
     "data": {
      "text/plain": [
       "1"
      ]
     },
     "execution_count": 7,
     "metadata": {},
     "output_type": "execute_result"
    }
   ],
   "source": [
    "BinarySearch([10,20,30,40,50], 20)"
   ]
  },
  {
   "cell_type": "markdown",
   "metadata": {
    "heading_collapsed": true
   },
   "source": [
    "# Jump Search\n",
    "\n",
    "**Jump Search is similar to binary search in that it works on a sorted array, and uses a similar divide and conquer approach to search through it**\n",
    "\n",
    "**The time complexity of jump search is O(√n), where √n is the jump size, and n is the length of the list <br>**\n",
    "**It is used to search any element in a linear data structure like arrays and linked lists**\n"
   ]
  },
  {
   "cell_type": "code",
   "execution_count": 8,
   "metadata": {
    "ExecuteTime": {
     "end_time": "2021-12-05T15:20:23.313932Z",
     "start_time": "2021-12-05T15:20:23.279535Z"
    },
    "hidden": true
   },
   "outputs": [],
   "source": [
    "import math\n",
    "\n",
    "def JumpSearch (lys, val):\n",
    "    length = len(lys)\n",
    "    jump = int(math.sqrt(length))\n",
    "    left, right = 0, 0\n",
    "    while left < length and lys[left] <= val:\n",
    "        right = min(length - 1, left + jump)\n",
    "        if lys[left] <= val and lys[right] >= val:\n",
    "            break\n",
    "        left += jump;\n",
    "    if left >= length or lys[left] > val:\n",
    "        return -1\n",
    "    right = min(length - 1, right)\n",
    "    i = left\n",
    "    while i <= right and lys[i] <= val:\n",
    "        if lys[i] == val:\n",
    "            return i\n",
    "        i += 1\n",
    "    return -1 "
   ]
  },
  {
   "cell_type": "code",
   "execution_count": 9,
   "metadata": {
    "ExecuteTime": {
     "end_time": "2021-12-05T15:20:41.275759Z",
     "start_time": "2021-12-05T15:20:41.259736Z"
    },
    "hidden": true
   },
   "outputs": [
    {
     "name": "stdout",
     "output_type": "stream",
     "text": [
      "4\n"
     ]
    }
   ],
   "source": [
    " print(JumpSearch([1,2,3,4,5,6,7,8,9], 5))"
   ]
  },
  {
   "cell_type": "markdown",
   "metadata": {
    "heading_collapsed": true
   },
   "source": [
    "# Interpolation Search\n",
    "\n",
    "**Interpolation search is another divide and conquer algorithm, similar to binary search. Unlike binary search, it does not always begin searching at the middle. Interpolation search calculates the probable position of the element we are searching for using the formula:<br>**\n",
    "\n",
    "**index = low + [(val-lys[low])*(high-low) / (lys[high]-lys[low])] <br>**\n",
    "**The time complexity of interpolation search is O(log log n) <br>**\n",
    "**Desirable condition for interpolation search is that the array should be sorted and the values should be uniformly distributed <br>**\n",
    "**It is used to search any element in a linear data structure like arrays and linked lists**\n",
    "\n"
   ]
  },
  {
   "cell_type": "code",
   "execution_count": 10,
   "metadata": {
    "ExecuteTime": {
     "end_time": "2021-12-05T15:40:58.019528Z",
     "start_time": "2021-12-05T15:40:58.011512Z"
    },
    "hidden": true
   },
   "outputs": [],
   "source": [
    "def InterpolationSearch(lys, val):\n",
    "    low = 0\n",
    "    high = (len(lys) - 1)\n",
    "    while low <= high and val >= lys[low] and val <= lys[high]:\n",
    "        index = low + int(((float(high - low) / ( lys[high] - lys[low])) * ( val - lys[low])))\n",
    "        if lys[index] == val:\n",
    "            return index\n",
    "        if lys[index] < val:\n",
    "            low = index + 1;\n",
    "        else:\n",
    "            high = index - 1;\n",
    "    return -1 "
   ]
  },
  {
   "cell_type": "code",
   "execution_count": 11,
   "metadata": {
    "ExecuteTime": {
     "end_time": "2021-12-05T15:41:14.101602Z",
     "start_time": "2021-12-05T15:41:14.093607Z"
    },
    "hidden": true,
    "scrolled": true
   },
   "outputs": [
    {
     "name": "stdout",
     "output_type": "stream",
     "text": [
      "5\n"
     ]
    }
   ],
   "source": [
    "print(InterpolationSearch([1,2,3,4,5,6,7,8], 6))"
   ]
  }
 ],
 "metadata": {
  "kernelspec": {
   "display_name": "Python 3",
   "language": "python",
   "name": "python3"
  },
  "language_info": {
   "codemirror_mode": {
    "name": "ipython",
    "version": 3
   },
   "file_extension": ".py",
   "mimetype": "text/x-python",
   "name": "python",
   "nbconvert_exporter": "python",
   "pygments_lexer": "ipython3",
   "version": "3.7.3"
  },
  "varInspector": {
   "cols": {
    "lenName": 16,
    "lenType": 16,
    "lenVar": 40
   },
   "kernels_config": {
    "python": {
     "delete_cmd_postfix": "",
     "delete_cmd_prefix": "del ",
     "library": "var_list.py",
     "varRefreshCmd": "print(var_dic_list())"
    },
    "r": {
     "delete_cmd_postfix": ") ",
     "delete_cmd_prefix": "rm(",
     "library": "var_list.r",
     "varRefreshCmd": "cat(var_dic_list()) "
    }
   },
   "types_to_exclude": [
    "module",
    "function",
    "builtin_function_or_method",
    "instance",
    "_Feature"
   ],
   "window_display": false
  }
 },
 "nbformat": 4,
 "nbformat_minor": 2
}
