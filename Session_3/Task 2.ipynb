{
 "cells": [
  {
   "cell_type": "code",
   "execution_count": 15,
   "metadata": {
    "ExecuteTime": {
     "end_time": "2021-11-23T22:26:19.232679Z",
     "start_time": "2021-11-23T22:26:19.216686Z"
    }
   },
   "outputs": [],
   "source": [
    "class car :\n",
    "    def __init__(self):\n",
    "        self.__cmpany= input(\"Enter the car company: \")\n",
    "        self.__maxSpeed= int(input(\"Enter enter max speed of the car ...\"))\n",
    "        self.__password= input(\"Enter your car lock ... \")\n",
    "        self.__type= input(\"Enter the car type:Enter electric or oill \")\n",
    "        if self.__type==\"oill\":\n",
    "            self.__carOil=int(input(\"How many liters of oil does the car need ?\"))\n",
    "            self.__currOil=int(input(\"How many liters of oil in the car now ?\")  )\n",
    "        self.__currSpeed=0\n",
    "        self.__lock=False    \n",
    "        self.__charage=\"\"       \n",
    "        \n",
    "    def getSpeed(self):\n",
    "        return \"The current speed is :\" + str(self.__currSpeed)      \n",
    "    \n",
    "    def changeSpeed(self,newSpeed):      \n",
    "        self.openLock()\n",
    "        if self.__lock== True:\n",
    "            if newSpeed > self.__maxSpeed:\n",
    "                self.__currSpeed= self.__maxSpeed\n",
    "            elif newSpeed <= 0:\n",
    "                self.__currSpeed=0\n",
    "            else:\n",
    "                self.__currSpeed=newSpeed\n",
    "        print(\"Speed Changed ...\")            \n",
    "\n",
    "    def openLock(self):\n",
    "        password= input(\"Enter your password ...\")\n",
    "        if self.__password== password:\n",
    "            self.__lock=True\n",
    "        else:\n",
    "            print(\"Wrong password !!\")\n",
    "        \n",
    "    def charge(self):\n",
    "        if self.__lock==True:\n",
    "            if self.__type==\"electric\": \n",
    "                print(\"Car is charging ...\")\n",
    "            else:\n",
    "                print(\"The car is not electric !!\")\n",
    "        else:\n",
    "            self.openLock()\n",
    "            \n",
    "    def fillTank(self):\n",
    "        if self.__lock==True:    \n",
    "            if self.__type==\"oill\":\n",
    "                if self.__checkOil()<self.__carOil:\n",
    "                    self.currOil=self.__carOil\n",
    "                    print(\"Filling the car tank ...\")\n",
    "                else:\n",
    "                    print(\"The tank is already fill !!\")\n",
    "                    \n",
    "            else:\n",
    "                print(\"The car is not on oil !!\")\n",
    "\n",
    "    def __checkOil(self):\n",
    "        return self.__currOil"
   ]
  },
  {
   "cell_type": "code",
   "execution_count": 9,
   "metadata": {
    "ExecuteTime": {
     "end_time": "2021-11-23T22:20:33.885501Z",
     "start_time": "2021-11-23T22:20:16.156571Z"
    }
   },
   "outputs": [
    {
     "name": "stdout",
     "output_type": "stream",
     "text": [
      "Enter the car company: BMW\n",
      "Enter enter max speed of the car ...160\n",
      "Enter your car lock ... 12345\n",
      "Enter the car type:Enter electric or oill electric\n"
     ]
    }
   ],
   "source": [
    "car1=car()"
   ]
  },
  {
   "cell_type": "code",
   "execution_count": 10,
   "metadata": {
    "ExecuteTime": {
     "end_time": "2021-11-23T22:20:36.614979Z",
     "start_time": "2021-11-23T22:20:36.591118Z"
    }
   },
   "outputs": [
    {
     "data": {
      "text/plain": [
       "'The current speed is :0'"
      ]
     },
     "execution_count": 10,
     "metadata": {},
     "output_type": "execute_result"
    }
   ],
   "source": [
    "car1.getSpeed()"
   ]
  },
  {
   "cell_type": "code",
   "execution_count": 11,
   "metadata": {
    "ExecuteTime": {
     "end_time": "2021-11-23T22:20:44.437335Z",
     "start_time": "2021-11-23T22:20:41.134871Z"
    }
   },
   "outputs": [
    {
     "name": "stdout",
     "output_type": "stream",
     "text": [
      "Enter your password ...12345\n",
      "Speed Changed ...\n"
     ]
    }
   ],
   "source": [
    "car1.changeSpeed(100)"
   ]
  },
  {
   "cell_type": "code",
   "execution_count": 12,
   "metadata": {
    "ExecuteTime": {
     "end_time": "2021-11-23T22:20:49.068916Z",
     "start_time": "2021-11-23T22:20:49.060992Z"
    }
   },
   "outputs": [
    {
     "name": "stdout",
     "output_type": "stream",
     "text": [
      "Car is charging ...\n"
     ]
    }
   ],
   "source": [
    "car1.charge()"
   ]
  },
  {
   "cell_type": "code",
   "execution_count": 13,
   "metadata": {
    "ExecuteTime": {
     "end_time": "2021-11-23T22:20:51.602976Z",
     "start_time": "2021-11-23T22:20:51.594983Z"
    }
   },
   "outputs": [
    {
     "name": "stdout",
     "output_type": "stream",
     "text": [
      "The car is not on oil !!\n"
     ]
    }
   ],
   "source": [
    "car1.fillTank()"
   ]
  },
  {
   "cell_type": "code",
   "execution_count": 16,
   "metadata": {
    "ExecuteTime": {
     "end_time": "2021-11-23T22:27:15.410802Z",
     "start_time": "2021-11-23T22:26:30.803844Z"
    }
   },
   "outputs": [
    {
     "name": "stdout",
     "output_type": "stream",
     "text": [
      "Enter the car company: Tesla\n",
      "Enter enter max speed of the car ...120\n",
      "Enter your car lock ... 123\n",
      "Enter the car type:Enter electric or oill oill\n",
      "How many liters of oil does the car need ?50\n",
      "How many liters of oil in the car now ?20\n"
     ]
    }
   ],
   "source": [
    "car2=car()"
   ]
  },
  {
   "cell_type": "code",
   "execution_count": 18,
   "metadata": {
    "ExecuteTime": {
     "end_time": "2021-11-23T22:27:39.997802Z",
     "start_time": "2021-11-23T22:27:34.526190Z"
    }
   },
   "outputs": [
    {
     "name": "stdout",
     "output_type": "stream",
     "text": [
      "Enter your password ...123\n",
      "Speed Changed ...\n"
     ]
    }
   ],
   "source": [
    "car2.changeSpeed(60)"
   ]
  },
  {
   "cell_type": "code",
   "execution_count": 19,
   "metadata": {
    "ExecuteTime": {
     "end_time": "2021-11-23T22:27:56.194169Z",
     "start_time": "2021-11-23T22:27:56.178152Z"
    }
   },
   "outputs": [
    {
     "data": {
      "text/plain": [
       "'The current speed is :60'"
      ]
     },
     "execution_count": 19,
     "metadata": {},
     "output_type": "execute_result"
    }
   ],
   "source": [
    "car2.getSpeed()"
   ]
  },
  {
   "cell_type": "code",
   "execution_count": 20,
   "metadata": {
    "ExecuteTime": {
     "end_time": "2021-11-23T22:28:37.105071Z",
     "start_time": "2021-11-23T22:28:34.910567Z"
    }
   },
   "outputs": [
    {
     "name": "stdout",
     "output_type": "stream",
     "text": [
      "Enter your password ...123\n",
      "Speed Changed ...\n"
     ]
    }
   ],
   "source": [
    "car2.changeSpeed(160)"
   ]
  },
  {
   "cell_type": "code",
   "execution_count": 21,
   "metadata": {
    "ExecuteTime": {
     "end_time": "2021-11-23T22:28:52.163024Z",
     "start_time": "2021-11-23T22:28:52.147058Z"
    }
   },
   "outputs": [
    {
     "data": {
      "text/plain": [
       "'The current speed is :120'"
      ]
     },
     "execution_count": 21,
     "metadata": {},
     "output_type": "execute_result"
    }
   ],
   "source": [
    "car2.getSpeed()"
   ]
  },
  {
   "cell_type": "code",
   "execution_count": 22,
   "metadata": {
    "ExecuteTime": {
     "end_time": "2021-11-23T22:29:19.042730Z",
     "start_time": "2021-11-23T22:29:19.034744Z"
    }
   },
   "outputs": [
    {
     "name": "stdout",
     "output_type": "stream",
     "text": [
      "The car is not electric !!\n"
     ]
    }
   ],
   "source": [
    "car2.charge()"
   ]
  },
  {
   "cell_type": "code",
   "execution_count": 23,
   "metadata": {
    "ExecuteTime": {
     "end_time": "2021-11-23T22:29:39.662742Z",
     "start_time": "2021-11-23T22:29:39.647106Z"
    }
   },
   "outputs": [
    {
     "name": "stdout",
     "output_type": "stream",
     "text": [
      "Filling the car tank ...\n"
     ]
    }
   ],
   "source": [
    "car2.fillTank()"
   ]
  }
 ],
 "metadata": {
  "kernelspec": {
   "display_name": "Python 3",
   "language": "python",
   "name": "python3"
  },
  "language_info": {
   "codemirror_mode": {
    "name": "ipython",
    "version": 3
   },
   "file_extension": ".py",
   "mimetype": "text/x-python",
   "name": "python",
   "nbconvert_exporter": "python",
   "pygments_lexer": "ipython3",
   "version": "3.7.3"
  },
  "varInspector": {
   "cols": {
    "lenName": 16,
    "lenType": 16,
    "lenVar": 40
   },
   "kernels_config": {
    "python": {
     "delete_cmd_postfix": "",
     "delete_cmd_prefix": "del ",
     "library": "var_list.py",
     "varRefreshCmd": "print(var_dic_list())"
    },
    "r": {
     "delete_cmd_postfix": ") ",
     "delete_cmd_prefix": "rm(",
     "library": "var_list.r",
     "varRefreshCmd": "cat(var_dic_list()) "
    }
   },
   "types_to_exclude": [
    "module",
    "function",
    "builtin_function_or_method",
    "instance",
    "_Feature"
   ],
   "window_display": false
  }
 },
 "nbformat": 4,
 "nbformat_minor": 2
}
