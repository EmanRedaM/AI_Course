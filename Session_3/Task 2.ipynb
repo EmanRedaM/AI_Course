{
 "cells": [
  {
   "cell_type": "markdown",
   "metadata": {},
   "source": [
    "# session 3\n",
    "## Task 2\n",
    "### create a class for a car:\n",
    "\n",
    "**create 2 objects : BMW , Tesla**\n",
    "1. change speed \n",
    "2. open lock\n",
    "3. check oil\n",
    "4. charage ( works if car is electrial ) else not gonna work\n",
    "5. filltank ( works if car is on oil ) else not gonna work"
   ]
  },
  {
   "cell_type": "markdown",
   "metadata": {
    "heading_collapsed": true
   },
   "source": [
    "# Class Car"
   ]
  },
  {
   "cell_type": "code",
   "execution_count": 23,
   "metadata": {
    "ExecuteTime": {
     "end_time": "2021-11-23T23:16:06.646958Z",
     "start_time": "2021-11-23T23:16:06.630935Z"
    },
    "hidden": true
   },
   "outputs": [],
   "source": [
    "class car :\n",
    "    def __init__(self):\n",
    "        self.__cmpany= input(\"Enter the car company: \")\n",
    "        self.__maxSpeed= int(input(\"Enter enter max speed of the car ...\"))\n",
    "        self.__password= input(\"Enter your car lock ... \")\n",
    "        self.__type= input(\"Enter the car type:Enter electric or oill car \")\n",
    "        if self.__type==\"oill\":\n",
    "            self.__carOil=int(input(\"How many liters of oil does the car need ?\"))\n",
    "            self.__currOil=int(input(\"How many liters of oil in the car now ?\")  )\n",
    "        self.__currSpeed=0\n",
    "        self.__lock=False    \n",
    "        self.__charage=\"\"       \n",
    "        \n",
    "    def getSpeed(self):\n",
    "        return \"The current speed is :\" + str(self.__currSpeed)      \n",
    "    \n",
    "    def changeSpeed(self,newSpeed):      \n",
    "        self.openLock()\n",
    "        if self.__lock== True:\n",
    "            if newSpeed > self.__maxSpeed:\n",
    "                self.__currSpeed= self.__maxSpeed\n",
    "            elif newSpeed <= 0:\n",
    "                self.__currSpeed=0\n",
    "            else:\n",
    "                self.__currSpeed=newSpeed\n",
    "        print(\"Speed Changed ...\")            \n",
    "\n",
    "    def openLock(self):\n",
    "        password= input(\"Enter your password ...\")\n",
    "        if self.__password== password:\n",
    "            self.__lock=True\n",
    "            print(\"The lock is opened :)\")\n",
    "        else:\n",
    "            print(\"Wrong password !!\")\n",
    "        \n",
    "    def charge(self):\n",
    "        if self.__lock==True:\n",
    "            if self.__type==\"electric\": \n",
    "                print(\"Car is charging ...\")\n",
    "            else:\n",
    "                print(\"The car is not electric !!\")\n",
    "        else:\n",
    "            self.openLock()\n",
    "            \n",
    "    def fillTank(self):\n",
    "        if self.__lock==True:    \n",
    "            if self.__type==\"oill\":\n",
    "                if self.checkOil()<self.__carOil:\n",
    "                    self.currOil=self.__carOil\n",
    "                    print(\"Filling the car tank ...\")\n",
    "                else:\n",
    "                    print(\"The tank is already fill !!\")\n",
    "                    \n",
    "            else:\n",
    "                print(\"The car is not abn oill car !!\")\n",
    "\n",
    "    def checkOil(self):\n",
    "        if self.__type== \"oill\":\n",
    "            return self.__currOil\n",
    "        print(\"The car is not an oill car !!\")"
   ]
  },
  {
   "cell_type": "markdown",
   "metadata": {
    "heading_collapsed": true
   },
   "source": [
    "# 1. Object 1 (BMW)"
   ]
  },
  {
   "cell_type": "code",
   "execution_count": 16,
   "metadata": {
    "ExecuteTime": {
     "end_time": "2021-11-23T23:05:03.278112Z",
     "start_time": "2021-11-23T23:04:45.559809Z"
    },
    "hidden": true
   },
   "outputs": [
    {
     "name": "stdout",
     "output_type": "stream",
     "text": [
      "Enter the car company: BMW\n",
      "Enter enter max speed of the car ...160\n",
      "Enter your car lock ... 12345\n",
      "Enter the car type:Enter electric or oill car electric\n"
     ]
    }
   ],
   "source": [
    "car1=car()"
   ]
  },
  {
   "cell_type": "markdown",
   "metadata": {
    "heading_collapsed": true,
    "hidden": true
   },
   "source": [
    "## 1.1 Open lock"
   ]
  },
  {
   "cell_type": "code",
   "execution_count": 17,
   "metadata": {
    "ExecuteTime": {
     "end_time": "2021-11-23T23:05:11.552700Z",
     "start_time": "2021-11-23T23:05:08.439544Z"
    },
    "hidden": true
   },
   "outputs": [
    {
     "name": "stdout",
     "output_type": "stream",
     "text": [
      "Enter your password ...12345\n",
      "The lock is opened :)\n"
     ]
    }
   ],
   "source": [
    "car1.openLock()"
   ]
  },
  {
   "cell_type": "markdown",
   "metadata": {
    "heading_collapsed": true,
    "hidden": true
   },
   "source": [
    "## 1.2 Change speed"
   ]
  },
  {
   "cell_type": "code",
   "execution_count": 8,
   "metadata": {
    "ExecuteTime": {
     "end_time": "2021-11-23T22:58:30.699108Z",
     "start_time": "2021-11-23T22:58:30.674874Z"
    },
    "hidden": true
   },
   "outputs": [
    {
     "data": {
      "text/plain": [
       "'The current speed is :0'"
      ]
     },
     "execution_count": 8,
     "metadata": {},
     "output_type": "execute_result"
    }
   ],
   "source": [
    "car1.getSpeed()"
   ]
  },
  {
   "cell_type": "code",
   "execution_count": 9,
   "metadata": {
    "ExecuteTime": {
     "end_time": "2021-11-23T22:58:38.937058Z",
     "start_time": "2021-11-23T22:58:35.634357Z"
    },
    "hidden": true
   },
   "outputs": [
    {
     "name": "stdout",
     "output_type": "stream",
     "text": [
      "Enter your password ...12345\n",
      "Speed Changed ...\n"
     ]
    }
   ],
   "source": [
    "car1.changeSpeed(100)"
   ]
  },
  {
   "cell_type": "markdown",
   "metadata": {
    "ExecuteTime": {
     "end_time": "2021-11-23T23:02:56.754723Z",
     "start_time": "2021-11-23T23:02:56.738733Z"
    },
    "heading_collapsed": true,
    "hidden": true
   },
   "source": [
    "## 1.3 Check oil"
   ]
  },
  {
   "cell_type": "code",
   "execution_count": 18,
   "metadata": {
    "ExecuteTime": {
     "end_time": "2021-11-23T23:05:27.455346Z",
     "start_time": "2021-11-23T23:05:27.431463Z"
    },
    "hidden": true
   },
   "outputs": [
    {
     "name": "stdout",
     "output_type": "stream",
     "text": [
      "The car is not an oill car !!\n"
     ]
    }
   ],
   "source": [
    "car1.checkOil()"
   ]
  },
  {
   "cell_type": "markdown",
   "metadata": {
    "heading_collapsed": true,
    "hidden": true
   },
   "source": [
    "## 1.4 Charge car\n"
   ]
  },
  {
   "cell_type": "code",
   "execution_count": 19,
   "metadata": {
    "ExecuteTime": {
     "end_time": "2021-11-23T23:06:42.495389Z",
     "start_time": "2021-11-23T23:06:42.479401Z"
    },
    "hidden": true
   },
   "outputs": [
    {
     "name": "stdout",
     "output_type": "stream",
     "text": [
      "Car is charging ...\n"
     ]
    }
   ],
   "source": [
    "car1.charge()"
   ]
  },
  {
   "cell_type": "markdown",
   "metadata": {
    "heading_collapsed": true,
    "hidden": true
   },
   "source": [
    "## 1.5 Fill tank"
   ]
  },
  {
   "cell_type": "code",
   "execution_count": 13,
   "metadata": {
    "ExecuteTime": {
     "end_time": "2021-11-23T22:20:51.602976Z",
     "start_time": "2021-11-23T22:20:51.594983Z"
    },
    "hidden": true
   },
   "outputs": [
    {
     "name": "stdout",
     "output_type": "stream",
     "text": [
      "The car is not on oil !!\n"
     ]
    }
   ],
   "source": [
    "car1.fillTank()"
   ]
  },
  {
   "cell_type": "markdown",
   "metadata": {
    "heading_collapsed": true
   },
   "source": [
    "# 2. Object 2 (Tesla)"
   ]
  },
  {
   "cell_type": "code",
   "execution_count": 24,
   "metadata": {
    "ExecuteTime": {
     "end_time": "2021-11-23T23:16:43.941435Z",
     "start_time": "2021-11-23T23:16:19.633461Z"
    },
    "hidden": true
   },
   "outputs": [
    {
     "name": "stdout",
     "output_type": "stream",
     "text": [
      "Enter the car company: Tesla\n",
      "Enter enter max speed of the car ...120\n",
      "Enter your car lock ... 123\n",
      "Enter the car type:Enter electric or oill car oill\n",
      "How many liters of oil does the car need ?50\n",
      "How many liters of oil in the car now ?20\n"
     ]
    }
   ],
   "source": [
    "car2=car()"
   ]
  },
  {
   "cell_type": "markdown",
   "metadata": {
    "heading_collapsed": true,
    "hidden": true
   },
   "source": [
    "## 1.1 Open lock"
   ]
  },
  {
   "cell_type": "code",
   "execution_count": 25,
   "metadata": {
    "ExecuteTime": {
     "end_time": "2021-11-23T23:16:51.141933Z",
     "start_time": "2021-11-23T23:16:48.896513Z"
    },
    "hidden": true
   },
   "outputs": [
    {
     "name": "stdout",
     "output_type": "stream",
     "text": [
      "Enter your password ...123\n",
      "The lock is opened :)\n"
     ]
    }
   ],
   "source": [
    "car2.openLock()"
   ]
  },
  {
   "cell_type": "markdown",
   "metadata": {
    "heading_collapsed": true,
    "hidden": true
   },
   "source": [
    "## 1.2 Change speed"
   ]
  },
  {
   "cell_type": "code",
   "execution_count": 26,
   "metadata": {
    "ExecuteTime": {
     "end_time": "2021-11-23T23:17:00.656905Z",
     "start_time": "2021-11-23T23:16:56.484731Z"
    },
    "hidden": true
   },
   "outputs": [
    {
     "name": "stdout",
     "output_type": "stream",
     "text": [
      "Enter your password ...123\n",
      "The lock is opened :)\n",
      "Speed Changed ...\n"
     ]
    }
   ],
   "source": [
    "car2.changeSpeed(60)"
   ]
  },
  {
   "cell_type": "code",
   "execution_count": 27,
   "metadata": {
    "ExecuteTime": {
     "end_time": "2021-11-23T23:17:07.347563Z",
     "start_time": "2021-11-23T23:17:07.339540Z"
    },
    "hidden": true
   },
   "outputs": [
    {
     "data": {
      "text/plain": [
       "'The current speed is :60'"
      ]
     },
     "execution_count": 27,
     "metadata": {},
     "output_type": "execute_result"
    }
   ],
   "source": [
    "car2.getSpeed()"
   ]
  },
  {
   "cell_type": "code",
   "execution_count": 28,
   "metadata": {
    "ExecuteTime": {
     "end_time": "2021-11-23T23:17:18.819397Z",
     "start_time": "2021-11-23T23:17:10.667697Z"
    },
    "hidden": true
   },
   "outputs": [
    {
     "name": "stdout",
     "output_type": "stream",
     "text": [
      "Enter your password ...123\n",
      "The lock is opened :)\n",
      "Speed Changed ...\n"
     ]
    }
   ],
   "source": [
    "car2.changeSpeed(160)"
   ]
  },
  {
   "cell_type": "code",
   "execution_count": 30,
   "metadata": {
    "ExecuteTime": {
     "end_time": "2021-11-23T23:18:01.565456Z",
     "start_time": "2021-11-23T23:18:01.541505Z"
    },
    "hidden": true
   },
   "outputs": [
    {
     "data": {
      "text/plain": [
       "'The current speed is :120'"
      ]
     },
     "execution_count": 30,
     "metadata": {},
     "output_type": "execute_result"
    }
   ],
   "source": [
    "car2.getSpeed() #print the max speed"
   ]
  },
  {
   "cell_type": "markdown",
   "metadata": {
    "heading_collapsed": true,
    "hidden": true
   },
   "source": [
    "## 1.3 Check oil"
   ]
  },
  {
   "cell_type": "code",
   "execution_count": 31,
   "metadata": {
    "ExecuteTime": {
     "end_time": "2021-11-23T23:18:11.604728Z",
     "start_time": "2021-11-23T23:18:11.596735Z"
    },
    "hidden": true
   },
   "outputs": [
    {
     "data": {
      "text/plain": [
       "20"
      ]
     },
     "execution_count": 31,
     "metadata": {},
     "output_type": "execute_result"
    }
   ],
   "source": [
    "car2.checkOil()"
   ]
  },
  {
   "cell_type": "markdown",
   "metadata": {
    "heading_collapsed": true,
    "hidden": true
   },
   "source": [
    "## 1.4 Charge car"
   ]
  },
  {
   "cell_type": "code",
   "execution_count": 32,
   "metadata": {
    "ExecuteTime": {
     "end_time": "2021-11-23T23:19:36.936174Z",
     "start_time": "2021-11-23T23:19:36.928167Z"
    },
    "hidden": true
   },
   "outputs": [
    {
     "name": "stdout",
     "output_type": "stream",
     "text": [
      "The car is not electric !!\n"
     ]
    }
   ],
   "source": [
    "car2.charge()"
   ]
  },
  {
   "cell_type": "markdown",
   "metadata": {
    "heading_collapsed": true,
    "hidden": true
   },
   "source": [
    "## 1.5 Fill tank"
   ]
  },
  {
   "cell_type": "code",
   "execution_count": 33,
   "metadata": {
    "ExecuteTime": {
     "end_time": "2021-11-23T23:19:39.603039Z",
     "start_time": "2021-11-23T23:19:39.595046Z"
    },
    "hidden": true
   },
   "outputs": [
    {
     "name": "stdout",
     "output_type": "stream",
     "text": [
      "Filling the car tank ...\n"
     ]
    }
   ],
   "source": [
    "car2.fillTank()"
   ]
  }
 ],
 "metadata": {
  "kernelspec": {
   "display_name": "Python 3",
   "language": "python",
   "name": "python3"
  },
  "language_info": {
   "codemirror_mode": {
    "name": "ipython",
    "version": 3
   },
   "file_extension": ".py",
   "mimetype": "text/x-python",
   "name": "python",
   "nbconvert_exporter": "python",
   "pygments_lexer": "ipython3",
   "version": "3.7.3"
  },
  "varInspector": {
   "cols": {
    "lenName": 16,
    "lenType": 16,
    "lenVar": 40
   },
   "kernels_config": {
    "python": {
     "delete_cmd_postfix": "",
     "delete_cmd_prefix": "del ",
     "library": "var_list.py",
     "varRefreshCmd": "print(var_dic_list())"
    },
    "r": {
     "delete_cmd_postfix": ") ",
     "delete_cmd_prefix": "rm(",
     "library": "var_list.r",
     "varRefreshCmd": "cat(var_dic_list()) "
    }
   },
   "types_to_exclude": [
    "module",
    "function",
    "builtin_function_or_method",
    "instance",
    "_Feature"
   ],
   "window_display": false
  }
 },
 "nbformat": 4,
 "nbformat_minor": 2
}
