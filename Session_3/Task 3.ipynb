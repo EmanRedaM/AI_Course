{
 "cells": [
  {
   "cell_type": "markdown",
   "metadata": {},
   "source": [
    "# Session 3\n",
    "\n",
    "## Task 3\n",
    "\n",
    "**Check whether python classes has protected or not, if yes, apply it**"
   ]
  },
  {
   "cell_type": "markdown",
   "metadata": {},
   "source": [
    "**We can define protected variables, functions in super/parent class**"
   ]
  },
  {
   "cell_type": "code",
   "execution_count": 10,
   "metadata": {
    "ExecuteTime": {
     "end_time": "2021-11-23T23:48:15.252177Z",
     "start_time": "2021-11-23T23:48:15.228303Z"
    }
   },
   "outputs": [],
   "source": [
    "#super class\n",
    "class Student:   \n",
    "    def __init__(self, name, role, branch): \n",
    "        # protected data members\n",
    "        self._name = name\n",
    "        self._role = role\n",
    "        self._branch = branch\n",
    "    \n",
    "     # protected member function  \n",
    "    def _displayRollAndBranch(self):\n",
    "        print(\"Role: \", self._role)\n",
    "        print(\"Branch: \", self._branch)"
   ]
  },
  {
   "cell_type": "markdown",
   "metadata": {},
   "source": [
    "**We can use protected variables, functions just in sub/derived class**"
   ]
  },
  {
   "cell_type": "code",
   "execution_count": null,
   "metadata": {
    "ExecuteTime": {
     "end_time": "2021-11-23T23:48:17.149324Z",
     "start_time": "2021-11-23T23:48:17.133623Z"
    }
   },
   "outputs": [],
   "source": [
    "#sub class\n",
    "class Volunteer(Student):\n",
    "    def __init__(self, name, role, branch):\n",
    "        Student.__init__(self, name, role, branch)\n",
    "         \n",
    "     # public member function\n",
    "    def displayDetails(self):\n",
    "                   \n",
    "        # accessing protected data members of super class\n",
    "        print(\"Name: \", self._name)\n",
    "                   \n",
    "        # accessing protected member functions of super class\n",
    "        self._displayRollAndBranch()\n",
    " "
   ]
  },
  {
   "cell_type": "code",
   "execution_count": 13,
   "metadata": {
    "ExecuteTime": {
     "end_time": "2021-11-23T23:54:29.765625Z",
     "start_time": "2021-11-23T23:54:29.757628Z"
    }
   },
   "outputs": [],
   "source": [
    "#creating objects of the derived class       \n",
    "std = Volunteer(\"Sara\", \"programmer\", \"Information Technology\") "
   ]
  },
  {
   "cell_type": "code",
   "execution_count": 14,
   "metadata": {
    "ExecuteTime": {
     "end_time": "2021-11-23T23:55:01.191313Z",
     "start_time": "2021-11-23T23:55:01.183319Z"
    }
   },
   "outputs": [
    {
     "name": "stdout",
     "output_type": "stream",
     "text": [
      "Name:  Sara\n",
      "Role:  programmer\n",
      "Branch:  Information Technology\n"
     ]
    }
   ],
   "source": [
    "#calling public member functions of the class\n",
    "std.displayDetails()"
   ]
  }
 ],
 "metadata": {
  "kernelspec": {
   "display_name": "Python 3",
   "language": "python",
   "name": "python3"
  },
  "language_info": {
   "codemirror_mode": {
    "name": "ipython",
    "version": 3
   },
   "file_extension": ".py",
   "mimetype": "text/x-python",
   "name": "python",
   "nbconvert_exporter": "python",
   "pygments_lexer": "ipython3",
   "version": "3.7.3"
  },
  "varInspector": {
   "cols": {
    "lenName": 16,
    "lenType": 16,
    "lenVar": 40
   },
   "kernels_config": {
    "python": {
     "delete_cmd_postfix": "",
     "delete_cmd_prefix": "del ",
     "library": "var_list.py",
     "varRefreshCmd": "print(var_dic_list())"
    },
    "r": {
     "delete_cmd_postfix": ") ",
     "delete_cmd_prefix": "rm(",
     "library": "var_list.r",
     "varRefreshCmd": "cat(var_dic_list()) "
    }
   },
   "types_to_exclude": [
    "module",
    "function",
    "builtin_function_or_method",
    "instance",
    "_Feature"
   ],
   "window_display": false
  }
 },
 "nbformat": 4,
 "nbformat_minor": 2
}
