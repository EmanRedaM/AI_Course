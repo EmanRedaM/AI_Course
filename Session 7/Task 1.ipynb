{
 "cells": [
  {
   "cell_type": "markdown",
   "metadata": {},
   "source": [
    "# Session 7\n",
    "\n",
    "## Task 1\n",
    "\n",
    "**Get websites for Datasets**"
   ]
  },
  {
   "cell_type": "markdown",
   "metadata": {},
   "source": [
    "## Dataset :"
   ]
  },
  {
   "cell_type": "markdown",
   "metadata": {},
   "source": [
    "**Dataset is a collection of data mostly stored in a data matrix or in a database format. Every Data Scientist needs an appropriate dataset for creating a machine learning project. As a machine learning enthusiast myself, I believe that data is the soul of a machine learning project, so it is important to choose the perfect dataset for its correct usage. Here are some of best websites and some of my personal favorites; I often use to download datasets.**"
   ]
  },
  {
   "cell_type": "markdown",
   "metadata": {
    "heading_collapsed": true
   },
   "source": [
    "## Best Websites to Download Datasets"
   ]
  },
  {
   "cell_type": "markdown",
   "metadata": {
    "hidden": true
   },
   "source": [
    "<b>1. Kaggle Datasets</b>\n",
    "My personal favorite and one of the best maintained website with enormous amount of data available. Along with a data provider, this website is famous for many online data science and machine learning competitions and a cloud based workbench for data scientists and researchers. Kaggle has arisen to become a huge agglomeration working in data science under various subtopics. It is also the largest online community of data scientist in the world. With easy to use search options and choices available it definitely bubbles up to be the best in the league.\n",
    "<br><br><br>\n",
    "<b>2. IMDB Dataset</b>\n",
    "Plethora of movie related datasets can be found related to the movie information giant IMDB (Internet Movie Data Base). We get the best movie data both in quantity as well as quality. It is best rated for movie recommendation system projects for example: movie recommendation system based on the previously given reviews of a user and many others.\n",
    "<br><br><br>\n",
    "<b>3. UCI Machine Learning Repository </b>\n",
    "This is the Courtesy of University of California, Irvine created in 1987. It provides corrected data for projects in machine related fields. It is a huge collection of databases, domain theories and data generators. With its wide popularity among students, professionals, professors and researchers all over the world, the repositories have been cited over 1000 times.\n",
    "<br><br><br>\n",
    "<b>4. US Government Datasets</b>\n",
    "The Government of US provides free access to many of its online catalogs and datasets for research and development purposes. This is one of the best sources providing huge amount of data at one place. With over 18k “.csv” datasets and many other databases, the site has gained huge popularity. It is useful for data scientists as well as researchers in the field of machine learning.\n",
    "<br><br><br>\n",
    "<b>5. Open Indian Government Data Platform</b>\n",
    "One of the coolest and interactive websites ever is the Government of India maintained dataset provider platform. The data present is useful for data analysts and deep learning, and machine learning problems. It is known for its authentic and high ranking data available on the internet. Most of the data is related to the census and statistics of the Indian subcontinent.\n",
    "<br><br><br>\n",
    "<b>6. Yelp Datasets</b>\n",
    "Yelp is one of the biggest reviewing sites in the US. It contains over 6 million reviews for hundreds of thousands of restaurants and businesses. It can be used in Sentiment analysis and Mining technologies along with Recommender Systems. It contains a cellar of reviews, users, tips, check-in data as well as business data to help get insights from data.\n",
    "<br><br><br>\n",
    "<b>7. Reddit Opendata and Datasets</b>\n",
    "Reddit open data provides comments created data to everyone. It provides access to various open datasets in reddit. reddit.com/r/datasets/ provides common datasets for various topics like visualization and machine learning.\n",
    "<br><br><br>\n",
    "<b>8. Youtube Datasets</b>\n",
    "Created by Youtube, this is the best place to get a video dataset. It consists over 8 million video IDs and labels. As we know Youtube is the best source for providing video based entertainment, here you get abundance of video datasets. These data sets are best for creating Video related projects in machine learning as well as deep learning.\n",
    "<br><br><br>\n",
    "<b>9. Keel Dataset(s)</b>\n",
    "KEEL dataset is an open source data set repository from where we can download any of the listed dataset. The KEEL data set is used by many machine learning researchers working under the topics like Semi-supervised classification, unsupervised learning, regression and time-series.\n",
    "<br><br><br>\n",
    "<b>10. European Union (EU) Open Data Portal</b>\n",
    "The European Union Open data website is perfect for downloading datasets related to countries in the EU. With around 13k datasets in the repository, this is the one of the least known but also one of the best available destinations for data scientists."
   ]
  }
 ],
 "metadata": {
  "kernelspec": {
   "display_name": "Python 3",
   "language": "python",
   "name": "python3"
  },
  "language_info": {
   "codemirror_mode": {
    "name": "ipython",
    "version": 3
   },
   "file_extension": ".py",
   "mimetype": "text/x-python",
   "name": "python",
   "nbconvert_exporter": "python",
   "pygments_lexer": "ipython3",
   "version": "3.7.3"
  },
  "varInspector": {
   "cols": {
    "lenName": 16,
    "lenType": 16,
    "lenVar": 40
   },
   "kernels_config": {
    "python": {
     "delete_cmd_postfix": "",
     "delete_cmd_prefix": "del ",
     "library": "var_list.py",
     "varRefreshCmd": "print(var_dic_list())"
    },
    "r": {
     "delete_cmd_postfix": ") ",
     "delete_cmd_prefix": "rm(",
     "library": "var_list.r",
     "varRefreshCmd": "cat(var_dic_list()) "
    }
   },
   "types_to_exclude": [
    "module",
    "function",
    "builtin_function_or_method",
    "instance",
    "_Feature"
   ],
   "window_display": false
  }
 },
 "nbformat": 4,
 "nbformat_minor": 2
}
