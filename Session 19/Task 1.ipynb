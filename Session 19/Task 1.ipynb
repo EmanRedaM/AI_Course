{
 "cells": [
  {
   "cell_type": "markdown",
   "metadata": {},
   "source": [
    "# Task 1\n",
    "\n",
    "## Session 19\n",
    "\n",
    "**What is the equation to determine time series decomposition**\n"
   ]
  },
  {
   "cell_type": "markdown",
   "metadata": {},
   "source": [
    "The general mathematical representation of the decomposition approach:\n",
    "**Yt = f (Tt, St, Et)**\n",
    "where\n",
    "* Yt is the time series value (actual data) at period t;\n",
    "* Tt is a deterministic trend-cycle or general movement component;\n",
    "* St is a deterministic seasonal component\n",
    "* Et is the irregular (remainder or residual) (stationary) component.\n",
    "\n",
    "The exact functional form of f (·) depends on the decomposition method\n",
    "used.\n",
    "\n",
    "### A common approach is to assume that the equation has an additive form:<br>\n",
    "Yt = Tt + St + Et<br>\n",
    "\n",
    "Trend, seasonal and irregular components are simply added together to give the observed series. \n",
    "\n",
    "### Alternatively, the multiplicative decomposition has the form:\n",
    "Yt = Tt· St· Et<br>\n",
    "\n",
    "Trend, seasonal and irregular components are multiplied together to give the observed series"
   ]
  },
  {
   "cell_type": "markdown",
   "metadata": {},
   "source": []
  }
 ],
 "metadata": {
  "kernelspec": {
   "display_name": "Python 3",
   "language": "python",
   "name": "python3"
  },
  "language_info": {
   "codemirror_mode": {
    "name": "ipython",
    "version": 3
   },
   "file_extension": ".py",
   "mimetype": "text/x-python",
   "name": "python",
   "nbconvert_exporter": "python",
   "pygments_lexer": "ipython3",
   "version": "3.7.3"
  },
  "varInspector": {
   "cols": {
    "lenName": 16,
    "lenType": 16,
    "lenVar": 40
   },
   "kernels_config": {
    "python": {
     "delete_cmd_postfix": "",
     "delete_cmd_prefix": "del ",
     "library": "var_list.py",
     "varRefreshCmd": "print(var_dic_list())"
    },
    "r": {
     "delete_cmd_postfix": ") ",
     "delete_cmd_prefix": "rm(",
     "library": "var_list.r",
     "varRefreshCmd": "cat(var_dic_list()) "
    }
   },
   "types_to_exclude": [
    "module",
    "function",
    "builtin_function_or_method",
    "instance",
    "_Feature"
   ],
   "window_display": false
  }
 },
 "nbformat": 4,
 "nbformat_minor": 2
}
