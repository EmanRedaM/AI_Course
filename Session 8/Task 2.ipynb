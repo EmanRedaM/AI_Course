{
 "cells": [
  {
   "cell_type": "markdown",
   "metadata": {},
   "source": [
    "# Session 8\n",
    "\n",
    "## Task 2\n",
    "\n",
    "**How to scrap images and save them ..**"
   ]
  },
  {
   "cell_type": "markdown",
   "metadata": {
    "heading_collapsed": true
   },
   "source": [
    "### Import libraries"
   ]
  },
  {
   "cell_type": "code",
   "execution_count": 10,
   "metadata": {
    "ExecuteTime": {
     "end_time": "2021-12-26T00:31:16.859640Z",
     "start_time": "2021-12-26T00:31:16.856648Z"
    },
    "hidden": true
   },
   "outputs": [],
   "source": [
    "from urllib.parse import urlparse\n",
    "import requests\n",
    "from bs4 import BeautifulSoup"
   ]
  },
  {
   "cell_type": "markdown",
   "metadata": {
    "heading_collapsed": true
   },
   "source": [
    "### Find all image element in the website"
   ]
  },
  {
   "cell_type": "code",
   "execution_count": 11,
   "metadata": {
    "ExecuteTime": {
     "end_time": "2021-12-26T00:35:29.759145Z",
     "start_time": "2021-12-26T00:35:05.508230Z"
    },
    "hidden": true
   },
   "outputs": [
    {
     "name": "stdout",
     "output_type": "stream",
     "text": [
      "ripple.com\n"
     ]
    }
   ],
   "source": [
    "url = \"https://ripple.com/xrp\"\n",
    "domain = urlparse(url).netloc\n",
    "print(domain)\n",
    "req = requests.get(url)\n",
    "soup = BeautifulSoup(req.text, \"html.parser\")\n",
    "raw_links = soup.find_all(\"img\")"
   ]
  },
  {
   "cell_type": "markdown",
   "metadata": {
    "heading_collapsed": true
   },
   "source": [
    "### Save all images links in list"
   ]
  },
  {
   "cell_type": "code",
   "execution_count": null,
   "metadata": {
    "hidden": true
   },
   "outputs": [],
   "source": [
    "links = []\n",
    "for i in raw_links:\n",
    "    link = i.attrs['src']\n",
    "    if link.startswith(\"http\"):\n",
    "        links.append(link)\n",
    "    else:\n",
    "        modified_link = \"https://\" + domain + link\n",
    "        links.append(modified_link)"
   ]
  },
  {
   "cell_type": "markdown",
   "metadata": {
    "heading_collapsed": true
   },
   "source": [
    "### Save all images saved in list as jpg file in the same folder"
   ]
  },
  {
   "cell_type": "code",
   "execution_count": 8,
   "metadata": {
    "ExecuteTime": {
     "end_time": "2021-12-26T00:28:26.622426Z",
     "start_time": "2021-12-26T00:26:15.492175Z"
    },
    "hidden": true
   },
   "outputs": [
    {
     "name": "stdout",
     "output_type": "stream",
     "text": [
      "Images scraped successfully... you can now check this script folder for your images\n"
     ]
    }
   ],
   "source": [
    "for x in range(len(links)):\n",
    "    downloaded_image = requests.get(links[x]).content\n",
    "    with open(str(x) + \".jpg\", \"wb\") as f:\n",
    "        f.write(downloaded_image)\n",
    "print(\"Images scraped successfully... you can now check this script folder for your images\")"
   ]
  }
 ],
 "metadata": {
  "kernelspec": {
   "display_name": "Python 3",
   "language": "python",
   "name": "python3"
  },
  "language_info": {
   "codemirror_mode": {
    "name": "ipython",
    "version": 3
   },
   "file_extension": ".py",
   "mimetype": "text/x-python",
   "name": "python",
   "nbconvert_exporter": "python",
   "pygments_lexer": "ipython3",
   "version": "3.7.3"
  },
  "varInspector": {
   "cols": {
    "lenName": 16,
    "lenType": 16,
    "lenVar": 40
   },
   "kernels_config": {
    "python": {
     "delete_cmd_postfix": "",
     "delete_cmd_prefix": "del ",
     "library": "var_list.py",
     "varRefreshCmd": "print(var_dic_list())"
    },
    "r": {
     "delete_cmd_postfix": ") ",
     "delete_cmd_prefix": "rm(",
     "library": "var_list.r",
     "varRefreshCmd": "cat(var_dic_list()) "
    }
   },
   "types_to_exclude": [
    "module",
    "function",
    "builtin_function_or_method",
    "instance",
    "_Feature"
   ],
   "window_display": false
  }
 },
 "nbformat": 4,
 "nbformat_minor": 2
}
