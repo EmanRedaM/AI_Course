{
 "cells": [
  {
   "cell_type": "markdown",
   "metadata": {},
   "source": [
    "# Session 14\n",
    "\n",
    "## Task 4\n",
    "\n",
    "**Give an examples of probability usage**"
   ]
  },
  {
   "cell_type": "markdown",
   "metadata": {},
   "source": [
    "### In Real Life"
   ]
  },
  {
   "cell_type": "markdown",
   "metadata": {},
   "source": [
    "* Weather Planning:\n",
    "\n",
    "A probability forecast is an assessment of how likely an event can occur in terms of percentage and record the risks associated with weather. Meteorologists around the world use different instruments and tools to predict weather changes. They collect the weather forecast database from around the world to estimate the temperature changes and probable weather conditions for a particular hour, day, week, and month.<br>**Example**\n",
    "if there are 40 % chances of raining then the weather condition is such that 40 out of 100 days it has rained.\n",
    "\n",
    "\n",
    "\n",
    "* Sports Strategies:\n",
    "\n",
    "In sports, analyses are conducted with the help of probability to understand the strengths and weaknesses of a particular team or player. Analysts use probability and odds to foretell outcomes regarding the team’s performance and members in the sport.\n",
    "Coaches use probability as a tool to determine in what areas their team is strong enough and in which all areas they have to work to attain victory. Trainers even use probability to gauge the capacity of a particular player in his team and when to allow him to play and against whom. \n",
    "<br>**Example** A cricket coach evaluates a player's batting and bowling capability by taking his average performances in previous matches before placing him in the lineup.\n",
    "\n",
    "* In Games:\n",
    "\n",
    "Blackjack, poker, gambling, all sports, board games, video games use probability to know how likely a team or person has chances to win.\n",
    "<br>**Example**\n",
    "When two dices are rolled simultaneously, the outcomes will be as given below"
   ]
  },
  {
   "cell_type": "markdown",
   "metadata": {},
   "source": [
    "### In Business"
   ]
  },
  {
   "cell_type": "markdown",
   "metadata": {},
   "source": [
    "* Sales Forecasting\n",
    "\n",
    "One practical use for probability distributions and scenario analysis in business is to predict future levels of sales. It is essentially impossible to predict the precise value of a future sales level; however, businesses still need to be able to plan for future events. Using a scenario analysis based on a probability distribution can help a company frame its possible future values in terms of a likely sales level and a worst-case and best-case scenario. By doing so, the company can base its business plans on the likely scenario but still be aware of the alternative possibilities.\n",
    "\n",
    "\n",
    "* Risk Evaluation\n",
    "\n",
    "In addition to predicting future sales levels, probability distribution can be a useful tool for evaluating risk. Consider, for example, a company considering entering a new business line. If the company needs to generate 500,000 in revenue in order to break evenand their probability distribution tells them that there is a 10 percent chance that revenues will be less than $500,000 "
   ]
  },
  {
   "cell_type": "code",
   "execution_count": null,
   "metadata": {},
   "outputs": [],
   "source": []
  }
 ],
 "metadata": {
  "kernelspec": {
   "display_name": "Python 3",
   "language": "python",
   "name": "python3"
  },
  "language_info": {
   "codemirror_mode": {
    "name": "ipython",
    "version": 3
   },
   "file_extension": ".py",
   "mimetype": "text/x-python",
   "name": "python",
   "nbconvert_exporter": "python",
   "pygments_lexer": "ipython3",
   "version": "3.7.3"
  },
  "varInspector": {
   "cols": {
    "lenName": 16,
    "lenType": 16,
    "lenVar": 40
   },
   "kernels_config": {
    "python": {
     "delete_cmd_postfix": "",
     "delete_cmd_prefix": "del ",
     "library": "var_list.py",
     "varRefreshCmd": "print(var_dic_list())"
    },
    "r": {
     "delete_cmd_postfix": ") ",
     "delete_cmd_prefix": "rm(",
     "library": "var_list.r",
     "varRefreshCmd": "cat(var_dic_list()) "
    }
   },
   "types_to_exclude": [
    "module",
    "function",
    "builtin_function_or_method",
    "instance",
    "_Feature"
   ],
   "window_display": false
  }
 },
 "nbformat": 4,
 "nbformat_minor": 2
}
