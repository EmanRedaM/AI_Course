{
 "cells": [
  {
   "cell_type": "markdown",
   "metadata": {},
   "source": [
    "# Session 14\n",
    "\n",
    "## Task 3\n",
    "\n",
    "**Give a real examples of predictive analysis in ( healthcare, marketing )**"
   ]
  },
  {
   "cell_type": "markdown",
   "metadata": {},
   "source": [
    "### What is predictive analytics?"
   ]
  },
  {
   "cell_type": "markdown",
   "metadata": {},
   "source": [
    "Predictive analytics is a branch of advanced analytics that makes predictions about future outcomes using historical data combined with statistical modeling, data mining techniques and machine learning. Companies employ predictive analytics to find patterns in this data to identify risks and opportunities.\n"
   ]
  },
  {
   "cell_type": "markdown",
   "metadata": {},
   "source": [
    "### Predictive Analysis in Healthcare Example"
   ]
  },
  {
   "cell_type": "markdown",
   "metadata": {},
   "source": [
    "**Managing population health**<br><br>\n",
    "* Spotting chronic diseases with predictive analytics for healthcare\n",
    "\n",
    "Predictive analytics in healthcare helps medical institutions identify people who are at risk of developing chronic conditions and give them preventive care before the disease progresses. This type of analytics assigns scores to patients based on a variety of factors, including demographics, disabilities, age, and past patterns of care.\n",
    "\n",
    "Diabetes Care published a study demonstrating that predictive analytics models for healthcare can determine a five to ten years life expectancy for older adults with diabetes, enabling doctors to craft customized treatment plans.\n",
    "\n",
    "* Identifying public health trends with predictive analytics\n",
    "\n",
    "Additionally, predictive analytics in the healthcare industry helps identify potential population health trends. The Lancet Public Health journal published a study that used predictive analytics to uncover health trends. This study found that unless alcohol consumption patterns will change in the US, alcohol-related liver diseases will rise, causing deaths.\n",
    "\n",
    "* Detecting disease outbreaks with predictive healthcare analytics\n",
    "\n",
    "When speaking of outbreak predictions, one can’t help but ask, “could predictive analytics have foreseen the COVID-19 pandemic?” The answer is yes. BlueDot, a Canadian company building predictive analytics and AI solutions, issued a warning about the rise of unfamiliar pneumonia cases in Wuhan on December 30, 2019. Only nine days later, the World Health Organization released an official statement declaring the novel coronavirus emergence.\n",
    "\n",
    "To this day, predictive analytics in healthcare helps authorities and ordinary people to have a view on the pandemic. For instance, a research team at the University of Texas Health Science Center at Houston (UTHealth) developed a predictive analytics-based tool for COVID-19 tracking. This program produces and maintains a public health dashboard that shows current and future trends of the virus.\n",
    "\n",
    "Shreela Sharma, Ph.D., and a member of the UTHealth research team, outlined the benefits of this predictive analytics tool: “The dashboard identifies the current hot spots, predicts future spread both at the state and county level, and houses relevant public health resources. It can effectively inform decision-makers across Texas to help mitigate the spread of COVID-19.”"
   ]
  },
  {
   "cell_type": "markdown",
   "metadata": {},
   "source": [
    "### Predictive Analysis in Marketing Example"
   ]
  },
  {
   "cell_type": "markdown",
   "metadata": {},
   "source": [
    "* Amazon \n",
    "\n",
    "… to recommend products and services to users based on their past behavior. According to some reports, such recommendations bring up to 30% of Amazon’s sales. In addition, Amazon had plans to develop a tool that, based on forecasts, would deliver products to zones in which orders were expected even before those orders were placed on the site, reducing the time for delivering goods to customers.\n",
    "\n",
    "* Macy’s \n",
    "\n",
    "The Macy’s team took advantage of predictive analytics for more accurate direct marketing. Over the course of three months, the company increased its online sales from 8% to 12% by capturing data on product categories browsed by users and sending personalized emails accordingly."
   ]
  },
  {
   "cell_type": "code",
   "execution_count": null,
   "metadata": {},
   "outputs": [],
   "source": []
  }
 ],
 "metadata": {
  "kernelspec": {
   "display_name": "Python 3",
   "language": "python",
   "name": "python3"
  },
  "language_info": {
   "codemirror_mode": {
    "name": "ipython",
    "version": 3
   },
   "file_extension": ".py",
   "mimetype": "text/x-python",
   "name": "python",
   "nbconvert_exporter": "python",
   "pygments_lexer": "ipython3",
   "version": "3.7.3"
  },
  "varInspector": {
   "cols": {
    "lenName": 16,
    "lenType": 16,
    "lenVar": 40
   },
   "kernels_config": {
    "python": {
     "delete_cmd_postfix": "",
     "delete_cmd_prefix": "del ",
     "library": "var_list.py",
     "varRefreshCmd": "print(var_dic_list())"
    },
    "r": {
     "delete_cmd_postfix": ") ",
     "delete_cmd_prefix": "rm(",
     "library": "var_list.r",
     "varRefreshCmd": "cat(var_dic_list()) "
    }
   },
   "types_to_exclude": [
    "module",
    "function",
    "builtin_function_or_method",
    "instance",
    "_Feature"
   ],
   "window_display": false
  }
 },
 "nbformat": 4,
 "nbformat_minor": 2
}
