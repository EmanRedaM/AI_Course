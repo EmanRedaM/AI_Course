{
 "cells": [
  {
   "cell_type": "markdown",
   "metadata": {},
   "source": [
    "# Session 6\n",
    "\n",
    "## Task 5\n",
    "\n",
    "**What is MLops ..**"
   ]
  },
  {
   "cell_type": "markdown",
   "metadata": {},
   "source": [
    "### MLOps"
   ]
  },
  {
   "cell_type": "markdown",
   "metadata": {},
   "source": [
    "<b>MLOps</b> is a set of practices for collaboration and communication between data scientists and operations professionals. Applying these practices increases the quality, simplifies the management process, and automates the deployment of Machine Learning and Deep Learning models in large-scale production environments. It’s easier to align models with business needs, as well as regulatory requirements.<br>\n",
    "<b>MLOps</b> is slowly evolving into an independent approach to ML lifecycle management. It applies to the entire lifecycle – data gathering, model creation (software development lifecycle, continuous integration/continuous delivery), orchestration, deployment, health, diagnostics, governance, and business metrics."
   ]
  },
  {
   "cell_type": "markdown",
   "metadata": {
    "heading_collapsed": true
   },
   "source": [
    "### key phases of MLOps are:"
   ]
  },
  {
   "cell_type": "markdown",
   "metadata": {
    "hidden": true
   },
   "source": [
    "1. Data gathering\n",
    "2. Data analysis\n",
    "3. Data transformation/preparation\n",
    "4. Model training & development \n",
    "5. Model validation \n",
    "6. Model serving \n",
    "7. Model monitoring \n",
    "8. Model re-training."
   ]
  },
  {
   "cell_type": "markdown",
   "metadata": {
    "heading_collapsed": true
   },
   "source": [
    "### DevOps vs MLOps\n"
   ]
  },
  {
   "attachments": {
    "MLOps-DevOps.png": {
     "image/png": "[encoded data removed]"
    }
   },
   "cell_type": "markdown",
   "metadata": {
    "hidden": true
   },
   "source": [
    "![MLOps-DevOps.png](attachment:MLOps-DevOps.png)"
   ]
  },
  {
   "cell_type": "markdown",
   "metadata": {
    "heading_collapsed": true
   },
   "source": [
    "### Top MLOps open-source tools"
   ]
  },
  {
   "cell_type": "markdown",
   "metadata": {
    "heading_collapsed": true,
    "hidden": true
   },
   "source": [
    "#### Full-fledged platforms\n",
    "Full-fledged platforms contain tools for all stages of the machine learning workflow. Ideally, once you get a full-fledged tool, you won’t have to set up any other tools. In practice, it depends on the needs of your project and personal preferences. "
   ]
  },
  {
   "cell_type": "markdown",
   "metadata": {
    "hidden": true
   },
   "source": [
    "<b>Kubeflow</b><br>\n",
    "Almost immediately after Kubernetes established itself as the standard for working with a cluster of containers, Google created Kubeflow—an open-source project that simplifies working with ML in Kubernetes. It has all the advantages of this orchestration tool, from the ability to deploy on any infrastructure to managing loosely-coupled microservices, and on-demand scaling.\n",
    "\n",
    "This project is for developers who want to deploy portable and scalable machine learning projects. Google didn’t want to recreate other services. They wanted to create a state-of-the-art open-source system that can be applied alongside various infrastructures—from supercomputers to laptops. \n",
    "\n",
    "<br><b>MLflow</b><br>\n",
    "MLflow is an open-source platform for machine learning engineers to manage the ML lifecycle through experimentation, deployment, and testing. MLflow comes in handy when you want to track the performance of your models\n",
    "\n",
    "<br><b>Metaflow</b><br>\n",
    "Netflix created Metaflow as an open-source MLOps platform for building and managing large-scale, enterprise-level data science projects. Data scientists can use this platform for end-to-end development and deployment of their machine learning models. \n",
    "\n",
    "<br><b>MLReef</b><br>\n",
    "MLReef is an MLOps platform for teams to collaborate and share the results of their machine learning experiments. Projects are built on reusable ML modules realized either by you or by the community. This boosts the speed of development and makes the workflow more efficient by promoting concurrency. \n",
    "\n",
    "<br><b>Kedro</b><br>\n",
    "Kedro is a Python framework for machine learning engineers and data scientists to create reproducible and maintainable code. \n",
    "This framework is your best friend if you want to organize your data pipeline and make ML project development much more efficient. You won’t have to waste time on code rewrites and will have more opportunities for focusing on robust pipelines. Moreover, Kedro helps teams establish collaboration standards to limit delays and build scalable, deployable projects.\n",
    "\n"
   ]
  },
  {
   "cell_type": "markdown",
   "metadata": {
    "heading_collapsed": true,
    "hidden": true
   },
   "source": [
    "#### Tools for development and deployment\n",
    "Tools for development and deployment in MLOps automate routine tasks of manual deployment across multiple environments. You can deploy via tools that are more convenient for you, depending on the platform stack that you use. "
   ]
  },
  {
   "cell_type": "markdown",
   "metadata": {
    "hidden": true
   },
   "source": [
    "<br><b>ZenML</b><br>\n",
    "ZenML is an MLOps framework for orchestrating your ML experiment pipeline\n",
    "\n",
    "<br><b>MLRun</b><br>\n",
    "MLRun is a tool for ML model development and deployment. If you’re looking for a tool that conveniently runs in a wide variety of environments and supports multiple technology stacks, it’s definitely worth a try. MLRun offers a comprehensive approach to managing data pipelines.\n",
    "\n",
    "<br><b>CML</b><br>\n",
    "CML (Continuous Machine Learning) is a library for continuous integration and delivery (CI / CD) of machine learning projects. The library was developed by the creators of DVC, an open-source library for versioning ML models and experiments. Together with DVC, Tensorboard, and cloud services, CML should facilitate the process of developing and implementing ML models into products.\n",
    "\n",
    "<br><b>Cortex Lab</b><br>\n",
    "Cortex Labs is an early-stage startup developed by Berkeley scientists. They’re working on a convenient tool for neuroscientists, to help them understand how the brain works. The uses of this application turn out to be much broader. \n",
    "\n",
    "The Cortex Lab project is interesting because it allows you to deploy, manage, and scale containers without worrying about Kubernetes. It provides containers as a service on AWS."
   ]
  },
  {
   "cell_type": "markdown",
   "metadata": {
    "heading_collapsed": true,
    "hidden": true
   },
   "source": [
    "#### Data validation\n",
    "Data validation is the process of checking data quality. During this stage, you make sure that there are no inconsistencies or missing data in your sets. Data validation tools automate this routine process and improve the quality of data cleansing.  "
   ]
  },
  {
   "cell_type": "markdown",
   "metadata": {
    "hidden": true
   },
   "source": [
    "<b>Hadoop</b><br>\n",
    "Hadoop is a freely redistributable set of utilities, libraries, and frameworks for developing and executing programs running on clusters. This fundamental technology for storing and processing Big Data is a top-level project of the Apache Software Foundation.\n",
    "\n",
    "<br><b>Spark</b><br>\n",
    "Apache Spark helps you to process semi-structured in-memory data. The main advantages of Spark are performance and a user-friendly programming interface.\n",
    "\n"
   ]
  },
  {
   "cell_type": "markdown",
   "metadata": {
    "heading_collapsed": true,
    "hidden": true
   },
   "source": [
    "#### Data exploration\n",
    "Data exploration software is created for automated data analysis that provides streamlined pattern recognition and easy insights visualization. Data exploration is a cognitively intense process, you need powerful tools that will help you track and execute code as you go."
   ]
  },
  {
   "cell_type": "markdown",
   "metadata": {
    "hidden": true
   },
   "source": [
    "<b>Jupyter Notebook</b><br>\n",
    "Jupyter Notebook is a development environment where you can immediately see the result of executing code and its fragments. The difference from a traditional IDE is that the code can be broken into chunks and performed in any order. You can load a file into memory, check its contents separately, and also process the contents separately. \n",
    "\n"
   ]
  },
  {
   "cell_type": "markdown",
   "metadata": {
    "heading_collapsed": true,
    "hidden": true
   },
   "source": [
    "#### Data version control systems\n",
    "There will be multiple ML model versions before you finish up. To make sure nothing gets lost, use a robust and trustworthy data version control system where every change is trackable."
   ]
  },
  {
   "cell_type": "markdown",
   "metadata": {
    "hidden": true
   },
   "source": [
    "<b>Data Version Control (DVC)</b><br>\n",
    "DVC is a tool designed for managing software versions in ML projects. It’s useful both for experimentation and for deploying models to production. DVC runs on top of Git, uses its infrastructure, and has a similar syntax.\n",
    "\n",
    "<br><b>Pachyderm</b><br>\n",
    "Pachyderm is a Git-like tool for tracking transformations in your data. It keeps track of data lineage and ensures that data is kept relevant. \n",
    "\n"
   ]
  },
  {
   "cell_type": "markdown",
   "metadata": {
    "heading_collapsed": true,
    "hidden": true
   },
   "source": [
    "#### Testing and maintenance\n",
    "The final step of ML development is testing and maintenance after the main jobs are done. Special tools allow you to make sure that the results are reproducible in the long run."
   ]
  },
  {
   "cell_type": "markdown",
   "metadata": {
    "hidden": true
   },
   "source": [
    "<b>Flyte</b><br>\n",
    "If you’re looking for a tool that will take care of tracking and maintenance for your machine learning project, have a look at Flyte. This is a platform for the maintenance of machine learning projects released by Lyft.\n",
    "\n"
   ]
  }
 ],
 "metadata": {
  "kernelspec": {
   "display_name": "Python 3",
   "language": "python",
   "name": "python3"
  },
  "language_info": {
   "codemirror_mode": {
    "name": "ipython",
    "version": 3
   },
   "file_extension": ".py",
   "mimetype": "text/x-python",
   "name": "python",
   "nbconvert_exporter": "python",
   "pygments_lexer": "ipython3",
   "version": "3.7.3"
  },
  "varInspector": {
   "cols": {
    "lenName": 16,
    "lenType": 16,
    "lenVar": 40
   },
   "kernels_config": {
    "python": {
     "delete_cmd_postfix": "",
     "delete_cmd_prefix": "del ",
     "library": "var_list.py",
     "varRefreshCmd": "print(var_dic_list())"
    },
    "r": {
     "delete_cmd_postfix": ") ",
     "delete_cmd_prefix": "rm(",
     "library": "var_list.r",
     "varRefreshCmd": "cat(var_dic_list()) "
    }
   },
   "types_to_exclude": [
    "module",
    "function",
    "builtin_function_or_method",
    "instance",
    "_Feature"
   ],
   "window_display": false
  }
 },
 "nbformat": 4,
 "nbformat_minor": 2
}
