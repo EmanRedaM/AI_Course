{
 "cells": [
  {
   "cell_type": "markdown",
   "metadata": {},
   "source": [
    "# Session 6\n",
    "## Task 3\n",
    "\n",
    "**Get all tools for each operation in DevOps**\n",
    "\n",
    "<hr>\n",
    "\n",
    "\n",
    "**Although, in the past few years a lot of DevOps tools have come on board that can help you in multitasking. Apart from Azure DevOps tools and AWS DevOps tools, we have this 30 best DevOps tools list right here that literally falls under the trends of 2021 :**\n",
    "\n",
    "1. Slack\n",
    "2. Docker\n",
    "3. Jenkins\n",
    "4. Git\n",
    "5. Buddy\n",
    "6. Snort\n",
    "7. Nagios\n",
    "8. Kubernetes\n",
    "9. Querysurge\n",
    "10. Basic Technologies\n",
    "11. Testrail\n",
    "12. Vagrant\n",
    "13. Pagerduty\n",
    "14. Prometheus\n",
    "15. Ganglia\n",
    "16. Splunk\n",
    "17. Chef\n",
    "18. SumoLogic\n",
    "19. OverOps\n",
    "20. Consul\n",
    "21. Stackify Retrace\n",
    "22. CFEngine\n",
    "23. Artifactory\n",
    "24. Capistrano\n",
    "25. Monit\n",
    "26. Supervisor\n",
    "27. Ansible\n",
    "28. Code Climate\n",
    "29. Icinga\n",
    "30. Juju\n",
    "\n",
    "**Far too many exceptional DevOps tool(s) for build, version control, configuration management, project management, incident management, and more have been developed. Yet this tutorial shall illustrate only a few top tools under various DevOps processes categories.**\n"
   ]
  },
  {
   "cell_type": "markdown",
   "metadata": {
    "heading_collapsed": true
   },
   "source": [
    "## 1.Version Control Tool: Git (GitLab, GitHub, Bitbucket)"
   ]
  },
  {
   "cell_type": "markdown",
   "metadata": {
    "hidden": true
   },
   "source": [
    "**Git is perhaps the best and most widely used version control tool in a development era characterized by dynamism and collaboration. Version control provides developers with a means by which they can keep track of all the changes and updates in their codes such that in the event of a mishap, it is quite easy to return to and use the previous versions of the code and Git happens to be the best for many reasons.** \n",
    "\n",
    "**Git DevOps tool is easy to implement as it is compatible with most protocols including HTTP, SSH, and FTP. It offers the best advantage for non-linear shared-repository development projects, unlike most other centralized version control tools. This makes it a good deal for mission-critical software.** \n",
    "\n",
    "**Git features three storage tools including, GitHub and GitLab cloud-hosted code repository services as well as BitBucket the source code hosting service. Of the three, GitLab and BitBucket are specifically designed for enterprise-range version control**"
   ]
  },
  {
   "cell_type": "markdown",
   "metadata": {},
   "source": [
    "## 2. Build Tool: Maven"
   ]
  },
  {
   "cell_type": "markdown",
   "metadata": {},
   "source": [
    "**Maven is one of the important DevOps tools for building projects. Unlike the ANT build system, Apache Maven is more than just an automation build framework. It is also designed to manage reporting, documentation, distribution, releases, and dependencies processes. Written in Java language, Maven can build and manage projects written in Java or C#, Ruby, Scala, and other languages using project object model (POM) plugins.** \n",
    "\n",
    "**Maven offers a host of benefits to its users. It eases the build and monitoring process through automation and maintains a uniform build process allowing for consistency and efficiency. This tool also offers comprehensive project information through quality documentation, a valuable resource for the development of best practices hence the name Maven, translated from the Yiddish language to mean accumulator of knowledge. Finally, Maven provides a very simplified feature migration process.** \n",
    "\n",
    "**It has a rich repository of plugins to enhance the build process and wide compatibility with IDEs like Eclipse, JBuilder, MyEclipse, NetBeans, IntelliJ IDEA, and others.**"
   ]
  },
  {
   "cell_type": "markdown",
   "metadata": {
    "heading_collapsed": true
   },
   "source": [
    "## 3. Continuous Integration Tool: Jenkins"
   ]
  },
  {
   "cell_type": "markdown",
   "metadata": {
    "hidden": true
   },
   "source": [
    "**Jenkins is an integration DevOps tool. For continuous integration (CI), Jenkins stands out as it is designed for both internal and plugin extensions. Jenkins is an open-source Java-based automation CI server that is supported by multiple operating systems including Windows, macOS, and other Unix OSs. Jenkins can also be deployed on cloud-based platforms.** \n",
    "\n",
    "**Continuous Integration and Continuous Delivery are two core practices of the DevOps methodology which makes Jenkins an indispensable DevOps tool. Jenkins is compatible with most CI/CD integration tools and services thanks to the over 1,500 plugins available to provide integration points for delivering customized functionality during software development.** \n",
    "\n",
    "**A valuable automation CI tool, Jenkins is pretty easy to install and configure. It is designed to support distributed workflows for accelerated and transparent builds, tests, and deployments across platforms.** "
   ]
  },
  {
   "cell_type": "markdown",
   "metadata": {
    "heading_collapsed": true
   },
   "source": [
    "## 4. Configuration Management Tool: Chef"
   ]
  },
  {
   "cell_type": "markdown",
   "metadata": {
    "hidden": true
   },
   "source": [
    "**Configuration management (CM) refers to the maintenance and control of the components of large complex systems in a known, consistent, and determined state throughout the DevOps life cycle. Components of an IT system may include servers, networks, storage, and applications.** \n",
    "\n",
    "**For this reason, configuration management is critical to any system as it is the process by which changes in the system are tracked, properly implemented, and controlled. Further, if not automated, CM can be laborious, resource-draining, and prone to costly errors. It implements configuration tools for such repetitive administrative tasks as version management, regulatory compliance, feature releases, and processes automation, among others.**  \n",
    "\n",
    "**Chef, Puppet, and Ansible are handy CM automation frameworks. While Chef and Puppet are Ruby-based frameworks, Ansible is a Python-based framework.**\n",
    "\n",
    "**Chef, an open-source framework, uses a master-agent model and has infrastructure as code (IAC) capabilities to automate the configuration of infrastructure. Together with its multi-platform support that includes the cloud platform, Chef remains one of the most popular DevOps tools after Puppet.** "
   ]
  },
  {
   "cell_type": "markdown",
   "metadata": {
    "heading_collapsed": true
   },
   "source": [
    "## 5. Configuration Management Tool: Puppet"
   ]
  },
  {
   "cell_type": "markdown",
   "metadata": {
    "hidden": true
   },
   "source": [
    "**Puppet is also open-source and uses declarative programming for system configuration, deployments, and server management DevOps tools. It is organized into reusable modules for the speedy setup of pre-configured servers and is compatible with most platforms. Like Chef, it also uses IAC, adopts a master-slave architecture, and features an intuitive user interface for ease of real-time reporting, node management, and several other tasks.** "
   ]
  },
  {
   "cell_type": "markdown",
   "metadata": {
    "heading_collapsed": true
   },
   "source": [
    "## 6. Configuration Management Tool: Ansible"
   ]
  },
  {
   "cell_type": "markdown",
   "metadata": {
    "hidden": true
   },
   "source": [
    "**Ansible is an open-source CM DevOps tool that is also used for deployment, automation, and orchestration. While Ansible leverages infrastructure as a code architecture, it uses SSH connection for its push nodes thus agentless. Of the three, Ansible is considered easy to learn and use as its Playbooks are written in YAML with minimal commands and are readable by humans.** "
   ]
  },
  {
   "cell_type": "markdown",
   "metadata": {
    "heading_collapsed": true
   },
   "source": [
    "## 7. Container Platforms: Docker"
   ]
  },
  {
   "cell_type": "markdown",
   "metadata": {
    "hidden": true
   },
   "source": [
    "**Container platforms are application solutions that allow developers to build, test, and ship applications in resource-independent environments. Each container comprises a complete runtime environment including the specific application, its libraries, source code, configurations, and all its dependencies. Container platforms offer orchestration, automation, security, governance, and other capabilities.**  \n",
    "\n",
    "**DevOps heavily relies on containerization and microservices for efficient application development and deployment with Docker and Kubernetes as the most widely used container technologies.** \n",
    "\n",
    "<h1>Docker</h1> <br> \n",
    "\n",
    "**The Docker engine is designed to automate the development, deployment, and management of containerized applications on single nodes. Docker is open-source and compatible with cloud services like AWS, GCP, and Azure Cloud. Docker also runs on Windows and Linux operating systems**"
   ]
  },
  {
   "cell_type": "markdown",
   "metadata": {
    "heading_collapsed": true
   },
   "source": [
    "## 8. Container Platforms: Kubernetes"
   ]
  },
  {
   "cell_type": "markdown",
   "metadata": {
    "hidden": true
   },
   "source": [
    "**Kubernetes, on the other hand, is an automation orchestration platform that enables developers to run containerized applications across Kubernetes clusters referring to a group of nodes. Developers harness Kubernetes to automate such processes as container configuration, scaling, networking, security, and more to achieve speed and efficiency in production.** "
   ]
  },
  {
   "cell_type": "markdown",
   "metadata": {
    "heading_collapsed": true
   },
   "source": [
    "## 9. Communication and Collaboration: Slack"
   ]
  },
  {
   "cell_type": "markdown",
   "metadata": {
    "hidden": true
   },
   "source": [
    "**Workplace communication and collaboration technologies are as numerous and as diverse as can be imagined. And when it comes to deciding which tools best suit specific business requirements, several factors go into consideration such as integration and automation capabilities, security, user experience, as well as whether to develop, buy or rent.**\n",
    "\n",
    "**One of the most popular communication and collaboration tools and for all the good reasons is Slack. First things first, Slack offers free, standard and enterprise paid versions to cater to a wide range of clients with varying needs. Slack is a standalone tool that flaunts:** \n",
    "\n",
    "**Powerful search capabilities with well-designed search modifiers to ease document tracking, management, and file sharing.\n",
    "A friendly project management architecture integrates with project management tools like Twitter, Google Hangouts, Trello, and more.**\n",
    "\n",
    "**Powerful collaboration and communication capabilities via shared channels, direct chat, voice, and video conferencing. \n",
    "Added features like workflow builder, notification, and note-taking features.\n",
    "Slack is a simplistic application with an intuitive user interface and a host of pre-built integration points that make it a brilliant solution for supplementing more than 900 other business tools. It is operable from a web browser, synchronizable with your desktop, and usable on mobile devices like tablets and smartphones. Slack also offers extensive storage space and a wide range of integrations (paid versions).**"
   ]
  },
  {
   "cell_type": "markdown",
   "metadata": {
    "heading_collapsed": true
   },
   "source": [
    "## 10. AWS Cloud Computing and Storage in DevOps"
   ]
  },
  {
   "cell_type": "markdown",
   "metadata": {
    "hidden": true
   },
   "source": [
    "**AWS features the widest range of service offerings under PaaS, SaaS, and IaaS categories including compute, identity and access management (ACM), networking, and storage. While AWS offers public, private, and hybrid clouds, its focus is more on the public cloud.**"
   ]
  },
  {
   "cell_type": "markdown",
   "metadata": {
    "heading_collapsed": true
   },
   "source": [
    "## 11. Azure Cloud Computing and Storage in DevOps"
   ]
  },
  {
   "cell_type": "markdown",
   "metadata": {
    "hidden": true
   },
   "source": [
    "**Microsoft Azure, on the other hand, is a preferred choice for enterprises particularly those that rely on Microsoft applications like Office, Outlook, and Windows thanks to an easier transition.** \n",
    "\n",
    "**Azure offers Azure DevOps, a service packaged with a suite of tools to manage software development projects end to end. This service comprises the Azure DevOps Server and the Azure DevOps cloud service.**  \n",
    "\n",
    "**The server provides a run-time environment with cloud-based tools to facilitate on-premise deployments.** \n",
    "\n",
    "**Cloud service, on the other hand, features tools such as Azure boards, Azure Pipeline, Azure reports, Azure test plans, and Azure artifacts for software development, testing, and deployment on the cloud.** "
   ]
  },
  {
   "cell_type": "markdown",
   "metadata": {
    "heading_collapsed": true
   },
   "source": [
    "## 12. Google Cloud Platform Cloud Computing and Storage in DevOps"
   ]
  },
  {
   "cell_type": "markdown",
   "metadata": {
    "hidden": true
   },
   "source": [
    "**GCP supports DevOps by providing the services required to develop, store, and deploy high-quality software in shorter cycles. The Google Cloud platform features instances of up to 96 vCPUs and 624 GB RAM alongside services like the cloud console, Google compute engine, and the GCP deployment manager that supports the implementation of DevOps on the Google Cloud Platform.**  "
   ]
  },
  {
   "cell_type": "markdown",
   "metadata": {
    "heading_collapsed": true
   },
   "source": [
    "## 13. Monitoring, Alerting, and Incident Response Tools: SignalFx"
   ]
  },
  {
   "cell_type": "markdown",
   "metadata": {
    "hidden": true
   },
   "source": [
    "**Business environments are more complex today having been built on multiple infrastructures and services and adopting a wide range of tools to keep operations running at their optimal level and the end-user satisfied. This calls for effective application management monitoring (APM) to detect complex application performance issues using monitoring, alert, and incident response tools and ultimately maintaining the defined level of service.** \n",
    "\n",
    "**The topmost factor to consider when selecting application performance monitoring tools besides their capabilities is their ability to integrate seamlessly with each other and with the existing systems.** \n",
    "\n",
    "**SignalFx is an elastic architecture performance monitoring tool designed to provide operational intelligence specifically for microservices and containerized applications. It features SignalFlow, a fast proactive alert function, streaming data visualization, and aggregation with up to 62 other tools including Python, AWS services, Java, Slack, Docker and Kubernetes, Node.js, MySQL, Cassandra, Kafka, and more.**"
   ]
  },
  {
   "cell_type": "markdown",
   "metadata": {
    "heading_collapsed": true
   },
   "source": [
    "## 14. Appdynamics: Monitoring, Alerting, and Incident Response Tools\n"
   ]
  },
  {
   "cell_type": "markdown",
   "metadata": {
    "hidden": true
   },
   "source": [
    "**AppDynamics is an APM tool hailed for its powerful real-time performance visibility and code performance visibility. It delivers deep diagnostics, transaction flow monitoring, and end-user monitoring for complex distributed applications. AppDynamics integrates well with languages like Python, .NET, Java, PHP, C++, and Node.js, as well as AWS EC2, Microsoft Azure, Rackspace Cloud Servers, and more**"
   ]
  },
  {
   "cell_type": "markdown",
   "metadata": {
    "heading_collapsed": true
   },
   "source": [
    "## 15. Raygun: Monitoring, Alerting, and Incident Response Tools"
   ]
  },
  {
   "cell_type": "markdown",
   "metadata": {
    "hidden": true
   },
   "source": [
    "**Raygun is an end-user monitoring solution that provides developers with a view of the end-user experience operating software applications. It is designed to promptly detect, diagnose, and resolve application issues such as errors, performance issues, and crashes at the front end. It is easy to set up and integrates up to 43 tools including a range of languages like JavaScript, PHP, Node.js, Python, as well as platforms like GitHub, HipChat, Slack, Jira, and more.**"
   ]
  },
  {
   "cell_type": "markdown",
   "metadata": {
    "heading_collapsed": true
   },
   "source": [
    "## 16. Splunk Cloud: Monitoring, Alerting, and Incident Response Tools"
   ]
  },
  {
   "cell_type": "markdown",
   "metadata": {
    "hidden": true
   },
   "source": [
    "**Built for the cloud, Splunk Cloud delivers real-time visibility into cloud, hybrid, and on-prem environments to offer the best cloud monitoring solution for DevOps teams. Splunk Cloud will monitor performance for cloud infrastructure, applications, and services. It comes with powerful dashboards and integrations with most CI/CD tools, operation support systems (OSS), Kafka, AWS, Azure, Google Cloud Platform (GCP), Pivotal Cloud Foundry (PCF), and others.**"
   ]
  },
  {
   "cell_type": "markdown",
   "metadata": {
    "heading_collapsed": true
   },
   "source": [
    "## 17. Testing Tool: Selenium"
   ]
  },
  {
   "cell_type": "markdown",
   "metadata": {
    "hidden": true
   },
   "source": [
    "**The rationale behind automation is to eliminate human involvement in certain tasks making use of technology to automatically execute those tasks. Automation testing or test automation employs software applications, apart from the software being developed, to execute test cases automatically, compare outcomes, and report defects. This process is performed over and over to deliver high-quality software to end-users. Testing is an integral part of software development and is less prone to error.** \n",
    "\n",
    "**Selenium is a top open-source testing framework for web applications that supports all major browsers and platforms like Linux, Windows, and macOS. The beauty of Selenium is that it integrates with a wide range of programming languages including Python, C#, Ruby, Java, JavaScript, PHP, and PERL, and several other automation test frameworks.** \n",
    "\n",
    "**Selenium test suite comprises the following:  \n",
    "<br>\n",
    "Selenium IDE (Integrated Development Environment) for creating and running test cases for exploratory testing and recording test playbacks\n",
    "Selenium client API allows developers to write test scripts directly in various programming languages instead of having to first write them in Selenese programming language. \n",
    "Selenium WebDriver features language-specific bindings for writing test scripts. \n",
    "Selenium Grid is a smart proxy server that allows tests to be executed on multiple browsers and operating systems in parallel. \n",
    "Selenium Remote Control server written in Java communicates Selenium commands to browsers for execution.** "
   ]
  },
  {
   "cell_type": "markdown",
   "metadata": {
    "heading_collapsed": true
   },
   "source": [
    "## 18. Testing Tool: Gremlin"
   ]
  },
  {
   "cell_type": "markdown",
   "metadata": {
    "hidden": true
   },
   "source": [
    "**Gremlin is a cloud-native framework for testing applications on a wide range of cloud platforms including AWS, GCP, Azure, microservice platforms like Kubernetes, CI/CD pipelines, as well as operating systems like Windows and Linux. Engineers use Gremlin to run chaos experiments aimed at checking the reliability of cloud infrastructure, ultimately building failure-resilient systems.**"
   ]
  },
  {
   "cell_type": "markdown",
   "metadata": {
    "heading_collapsed": true
   },
   "source": [
    "## 19. IT Ticketing: Servicenow"
   ]
  },
  {
   "cell_type": "markdown",
   "metadata": {
    "hidden": true
   },
   "source": [
    "**It is almost impossible to separate incident management from ticket management in IT. This is because it takes effective ticket management systems and procedures to manage incidents appropriately throughout their life cycle which in turn affects the productivity and efficiency of any IT department. Most of the items in the incident life cycle are features you will find in an IT ticketing management software. It is important to note that speed of detection, management, and resolution of incidents count a great deal and this is what the best suitable IT ticketing tool should offer through automation.** \n",
    "\n",
    "**A good IT ticketing system should come with omnichannel support, tickets categorization and prioritization, workflow automation, analytics, and reporting capabilities.** \n",
    "\n",
    "**ServiceNow is a workflow automation ticketing tool that helps enterprises to organize and manage their ticket resolution processes based on a self-service model within IT service management (ITSM). ServiceNow consolidates both internal business functions (systems, networks, servers, and applications) on one dashboard allowing the team to track both internal and external incidents through to resolution. The best is that it helps the team manage workflows efficiently and cost-effectively. It features process automation, asset configuration management, incident management, workflow prioritization, and assignment capabilities, request management, and change management capabilities.**"
   ]
  },
  {
   "cell_type": "markdown",
   "metadata": {
    "heading_collapsed": true
   },
   "source": [
    "## 20. Status Service Updates: The Status Page"
   ]
  },
  {
   "cell_type": "markdown",
   "metadata": {
    "hidden": true
   },
   "source": [
    "**Part of effective incident management is communicating incidents, scheduled maintenance, downtimes, and other status updates in real-time to users. This is done through a status page. Status pages offer immense benefits. They build user trust, reduce the number of support queries logged during an incident, demonstrate reliability on the side of the IT team and keep the team in control of the page and of incidents when they occur.** \n",
    "\n",
    "**The status page developed by Atlassian is a leading service status update solution used not only as a status communication tool but also as a collaboration and analytics tool. It is packaged with impressive features such as pre-defined incident templates, text or email-based notification, sync with chat, as well as integration with website, helpdesk, and other applications. It also provides historical data for analytics to help the IT team better understand the system and application's performance.** "
   ]
  }
 ],
 "metadata": {
  "kernelspec": {
   "display_name": "Python 3",
   "language": "python",
   "name": "python3"
  },
  "language_info": {
   "codemirror_mode": {
    "name": "ipython",
    "version": 3
   },
   "file_extension": ".py",
   "mimetype": "text/x-python",
   "name": "python",
   "nbconvert_exporter": "python",
   "pygments_lexer": "ipython3",
   "version": "3.7.3"
  },
  "varInspector": {
   "cols": {
    "lenName": 16,
    "lenType": 16,
    "lenVar": 40
   },
   "kernels_config": {
    "python": {
     "delete_cmd_postfix": "",
     "delete_cmd_prefix": "del ",
     "library": "var_list.py",
     "varRefreshCmd": "print(var_dic_list())"
    },
    "r": {
     "delete_cmd_postfix": ") ",
     "delete_cmd_prefix": "rm(",
     "library": "var_list.r",
     "varRefreshCmd": "cat(var_dic_list()) "
    }
   },
   "types_to_exclude": [
    "module",
    "function",
    "builtin_function_or_method",
    "instance",
    "_Feature"
   ],
   "window_display": false
  }
 },
 "nbformat": 4,
 "nbformat_minor": 2
}
