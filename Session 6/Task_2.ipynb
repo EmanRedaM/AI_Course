{
 "cells": [
  {
   "cell_type": "markdown",
   "metadata": {},
   "source": [
    "# Session 6\n",
    "\n",
    "## Task 2\n",
    "\n",
    "**What is clean code and convert code from bad code to clean code ..**"
   ]
  },
  {
   "cell_type": "markdown",
   "metadata": {},
   "source": [
    "## What is Clean Code?"
   ]
  },
  {
   "cell_type": "markdown",
   "metadata": {},
   "source": [
    "**Clean code is subjective and every developer has a personal take on it. There are some ideas that are considered best practice and what constitutes as clean code within the industry and community, but there is no definitive distinction. And I don’t think there ever will be.**\n",
    "\n",
    "**Clean code is code that is easy to understand and easy to change.**\n",
    " \n",
    "**Easy to understand means the code is easy to read, whether that reader is the original author of the code or somebody else. It’s meaning is clear so it minimizes the need for guesswork and possibility for misunderstandings. It is easy to understand on every level, specifically:** \n",
    "\n",
    "- It is easy to understand the execution flow of the entire application\n",
    "- It is easy to understand how the different objects collaborate with each other\n",
    "- It is easy to understand the role and responsibility of each class\n",
    "- It is easy to understand what each method does\n",
    "- It is easy to understand what is the purpose of each expression and variable\n",
    "\n",
    "**Easy to change means the code is easy to extend and refactor, and it’s easy to fix bugs in the codebase. This can be achieved if the person making the changes understands the code and also feels confident that the changes introduced in the code do not break any existing functionality. For the code to be easy to change:**\n",
    "\n",
    "- Classes and methods are small and only have single responsibility\n",
    "- Classes have clear and concise public APIs\n",
    "- Classes and methods are predictable and work as expected\n",
    "- The code is easily testable and has unit tests (or it is easy to write the tests)\n",
    "- Tests are easy to understand and easy to change\n",
    " "
   ]
  },
  {
   "cell_type": "markdown",
   "metadata": {},
   "source": [
    "## Naming Conventions"
   ]
  },
  {
   "cell_type": "markdown",
   "metadata": {},
   "source": [
    "**One of the most important aspects of writing clean code is naming conventions. You should always use meaningful and intention-revealing names. It's always better to use long, descriptive names than short names with comments.**"
   ]
  },
  {
   "cell_type": "code",
   "execution_count": 1,
   "metadata": {
    "ExecuteTime": {
     "end_time": "2021-12-19T14:11:22.368245Z",
     "start_time": "2021-12-19T14:11:22.359875Z"
    }
   },
   "outputs": [],
   "source": [
    "# This is bad\n",
    "# represents the number of active users\n",
    "au = 55\n",
    "\n",
    "# This is good\n",
    "active_user_amount = 55"
   ]
  },
  {
   "cell_type": "markdown",
   "metadata": {},
   "source": [
    "## Variables"
   ]
  },
  {
   "cell_type": "markdown",
   "metadata": {},
   "source": [
    "### 1. Use nouns for variable names"
   ]
  },
  {
   "cell_type": "markdown",
   "metadata": {
    "heading_collapsed": true
   },
   "source": [
    "### 2. Use descriptive/intention-revealing names"
   ]
  },
  {
   "cell_type": "markdown",
   "metadata": {
    "hidden": true
   },
   "source": [
    "**Other developers should be able to figure out what a variable stores just by reading its name.**"
   ]
  },
  {
   "cell_type": "code",
   "execution_count": 2,
   "metadata": {
    "ExecuteTime": {
     "end_time": "2021-12-19T14:13:51.469817Z",
     "start_time": "2021-12-19T14:13:51.462835Z"
    },
    "hidden": true
   },
   "outputs": [],
   "source": [
    "# This is bad\n",
    "c = 5\n",
    "d = 12\n",
    "\n",
    "# This is good\n",
    "city_counter = 5\n",
    "elapsed_time_in_days = 12"
   ]
  },
  {
   "cell_type": "markdown",
   "metadata": {
    "heading_collapsed": true
   },
   "source": [
    "### 3. Use pronounceable names"
   ]
  },
  {
   "cell_type": "markdown",
   "metadata": {
    "hidden": true
   },
   "source": [
    "**You should always use pronounceable names; otherwise, you'll have a hard time explaining your algorithms out loud.**"
   ]
  },
  {
   "cell_type": "code",
   "execution_count": 3,
   "metadata": {
    "ExecuteTime": {
     "end_time": "2021-12-19T14:15:34.408180Z",
     "start_time": "2021-12-19T14:15:34.390229Z"
    },
    "hidden": true
   },
   "outputs": [],
   "source": [
    "from datetime import datetime\n",
    "\n",
    "# This is bad\n",
    "genyyyymmddhhmmss = datetime.strptime('04/27/95 07:14:22', '%m/%d/%y %H:%M:%S')\n",
    "\n",
    "# This is good\n",
    "generation_datetime = datetime.strptime('04/27/95 07:14:22', '%m/%d/%y %H:%M:%S')"
   ]
  },
  {
   "cell_type": "markdown",
   "metadata": {
    "heading_collapsed": true
   },
   "source": [
    "### 4. Avoid using ambiguous abbreviations"
   ]
  },
  {
   "cell_type": "markdown",
   "metadata": {
    "hidden": true
   },
   "source": [
    "**Don't try to come up with your own abbreviations. It's better for a variable to have a longer name than a confusing name.**"
   ]
  },
  {
   "cell_type": "code",
   "execution_count": 4,
   "metadata": {
    "ExecuteTime": {
     "end_time": "2021-12-19T14:17:18.107270Z",
     "start_time": "2021-12-19T14:17:18.095998Z"
    },
    "hidden": true
   },
   "outputs": [],
   "source": [
    "# This is bad\n",
    "fna = 'Bob'\n",
    "cre_tmstp = 1621535852\n",
    "\n",
    "# This is good\n",
    "first_name = 'Bob'\n",
    "creation_timestamp = 1621535852"
   ]
  },
  {
   "cell_type": "markdown",
   "metadata": {
    "heading_collapsed": true
   },
   "source": [
    "### 5. Always use the same vocabulary"
   ]
  },
  {
   "cell_type": "markdown",
   "metadata": {
    "hidden": true
   },
   "source": [
    "**Avoid using synonyms when naming variables.**"
   ]
  },
  {
   "cell_type": "code",
   "execution_count": 5,
   "metadata": {
    "ExecuteTime": {
     "end_time": "2021-12-19T14:18:18.892985Z",
     "start_time": "2021-12-19T14:18:18.883254Z"
    },
    "hidden": true
   },
   "outputs": [],
   "source": [
    "# This is bad\n",
    "client_first_name = 'Bob'\n",
    "customer_last_name = 'Smith'\n",
    "\n",
    "# This is good\n",
    "client_first_name = 'Bob'\n",
    "client_last_name = 'Smith'"
   ]
  },
  {
   "cell_type": "markdown",
   "metadata": {
    "heading_collapsed": true
   },
   "source": [
    "### 6. Don't use \"magic numbers\""
   ]
  },
  {
   "cell_type": "markdown",
   "metadata": {
    "hidden": true
   },
   "source": [
    "**Magic numbers are strange numbers that appear in code, which do not have a clear meaning. Let's take a look at an example:**"
   ]
  },
  {
   "cell_type": "code",
   "execution_count": 6,
   "metadata": {
    "ExecuteTime": {
     "end_time": "2021-12-19T14:19:40.737827Z",
     "start_time": "2021-12-19T14:19:40.726650Z"
    },
    "hidden": true
   },
   "outputs": [],
   "source": [
    "import random\n",
    "\n",
    "# This is bad\n",
    "def roll():\n",
    "    return random.randint(0, 36)  # what is 36 supposed to represent?\n",
    "\n",
    "# This is good\n",
    "ROULETTE_POCKET_COUNT = 36\n",
    "\n",
    "def roll():\n",
    "    return random.randint(0, ROULETTE_POCKET_COUNT)"
   ]
  },
  {
   "cell_type": "markdown",
   "metadata": {
    "hidden": true
   },
   "source": [
    "**Instead of using magic numbers, we can extract them into a meaningful variable.**"
   ]
  },
  {
   "cell_type": "markdown",
   "metadata": {
    "heading_collapsed": true
   },
   "source": [
    "### 7. Use solution domain names"
   ]
  },
  {
   "cell_type": "markdown",
   "metadata": {
    "hidden": true
   },
   "source": [
    "**If you use a lot of different data types in your algorithm or class and you can't figure them out from the variable name itself, don't be afraid to add data type suffix to your variable name. For example:**"
   ]
  },
  {
   "cell_type": "code",
   "execution_count": 7,
   "metadata": {
    "ExecuteTime": {
     "end_time": "2021-12-19T14:22:09.902294Z",
     "start_time": "2021-12-19T14:22:09.887121Z"
    },
    "hidden": true
   },
   "outputs": [],
   "source": [
    "# This is good\n",
    "score_list = [12, 33, 14, 24]\n",
    "word_dict = {\n",
    "    'a': 'apple',\n",
    "    'b': 'banana',\n",
    "    'c': 'cherry',\n",
    "}"
   ]
  },
  {
   "cell_type": "markdown",
   "metadata": {
    "hidden": true
   },
   "source": [
    "**And here's a bad example (because you can't figure out the data type from the variable name):**"
   ]
  },
  {
   "cell_type": "code",
   "execution_count": 8,
   "metadata": {
    "ExecuteTime": {
     "end_time": "2021-12-19T14:22:40.546763Z",
     "start_time": "2021-12-19T14:22:40.530835Z"
    },
    "hidden": true
   },
   "outputs": [],
   "source": [
    "# This is bad\n",
    "names = [\"Nick\", \"Mike\", \"John\"]"
   ]
  },
  {
   "cell_type": "markdown",
   "metadata": {},
   "source": [
    "### 8. Don't add redundant context"
   ]
  },
  {
   "cell_type": "markdown",
   "metadata": {},
   "source": [
    "**Do not add unnecessary data to variable names, especially if you're working with classes.**"
   ]
  },
  {
   "cell_type": "code",
   "execution_count": 9,
   "metadata": {
    "ExecuteTime": {
     "end_time": "2021-12-19T14:24:13.200643Z",
     "start_time": "2021-12-19T14:24:13.193661Z"
    }
   },
   "outputs": [],
   "source": [
    "# This is bad\n",
    "class Person:\n",
    "    def __init__(self, person_first_name, person_last_name, person_age):\n",
    "        self.person_first_name = person_first_name\n",
    "        self.person_last_name = person_last_name\n",
    "        self.person_age = person_age\n",
    "\n",
    "\n",
    "# This is good\n",
    "class Person:\n",
    "    def __init__(self, first_name, last_name, age):\n",
    "        self.first_name = first_name\n",
    "        self.last_name = last_name\n",
    "        self.age = age"
   ]
  },
  {
   "cell_type": "markdown",
   "metadata": {},
   "source": [
    "**We're already inside the Person class, so there's no need to add a person_ prefix to every class variable.**"
   ]
  },
  {
   "cell_type": "markdown",
   "metadata": {},
   "source": [
    "## Functions"
   ]
  },
  {
   "cell_type": "markdown",
   "metadata": {},
   "source": [
    "### 1. Use verbs for function names"
   ]
  },
  {
   "cell_type": "markdown",
   "metadata": {},
   "source": [
    "### 2. Do not use different words for the same concept"
   ]
  },
  {
   "cell_type": "markdown",
   "metadata": {},
   "source": [
    "**Pick a word for each concept and stick to it. Using different words for the same concept will cause confusion.**"
   ]
  },
  {
   "cell_type": "code",
   "execution_count": 10,
   "metadata": {
    "ExecuteTime": {
     "end_time": "2021-12-19T14:27:24.133853Z",
     "start_time": "2021-12-19T14:27:24.126906Z"
    }
   },
   "outputs": [],
   "source": [
    "# This is bad\n",
    "def get_name(): pass\n",
    "def fetch_age(): pass\n",
    "\n",
    "# This is good\n",
    "def get_name(): pass\n",
    "def get_age(): pass"
   ]
  },
  {
   "cell_type": "markdown",
   "metadata": {},
   "source": [
    "### 3. Write short and simple functions"
   ]
  },
  {
   "cell_type": "markdown",
   "metadata": {},
   "source": [
    "### 4. Functions should only perform a single task"
   ]
  },
  {
   "cell_type": "markdown",
   "metadata": {},
   "source": [
    "**If your function contains the keyword 'and' you can probably split it into two functions. Let's look at an example**"
   ]
  },
  {
   "cell_type": "code",
   "execution_count": 12,
   "metadata": {
    "ExecuteTime": {
     "end_time": "2021-12-19T14:29:49.234433Z",
     "start_time": "2021-12-19T14:29:49.226423Z"
    }
   },
   "outputs": [],
   "source": [
    "# This is bad\n",
    "def fetch_and_display_personnel():\n",
    "    data = # ...\n",
    "\n",
    "    for person in data:\n",
    "        print(person)\n",
    "\n",
    "\n",
    "# This is good\n",
    "def fetch_personnel():\n",
    "    return # ...\n",
    "\n",
    "def display_personnel(data):\n",
    "    for person in data:\n",
    "        print(person)"
   ]
  },
  {
   "cell_type": "markdown",
   "metadata": {},
   "source": [
    "### 5. Keep your arguments at a minimum"
   ]
  },
  {
   "cell_type": "markdown",
   "metadata": {},
   "source": [
    "**The arguments in your function should be kept to a minimum. Ideally, your functions should only have one to two arguments. If you need to provide more arguments to the function, you can create a config object which you pass to the function or split it into multiple functions.**"
   ]
  },
  {
   "cell_type": "code",
   "execution_count": null,
   "metadata": {},
   "outputs": [],
   "source": [
    "# This is bad\n",
    "def render_blog_post(title, author, created_timestamp, updated_timestamp, content):\n",
    "    # ...\n",
    "\n",
    "render_blog_post(\"Clean code\", \"Nik Tomazic\", 1622148362, 1622148362, \"...\")\n",
    "\n",
    "\n",
    "# This is good\n",
    "class BlogPost:\n",
    "    def __init__(self, title, author, created_timestamp, updated_timestamp, content):\n",
    "        self.title = title\n",
    "        self.author = author\n",
    "        self.created_timestamp = created_timestamp\n",
    "        self.updated_timestamp = updated_timestamp\n",
    "        self.content = content\n",
    "\n",
    "blog_post1 = BlogPost(\"Clean code\", \"Nik Tomazic\", 1622148362, 1622148362, \"...\")\n",
    "\n",
    "def render_blog_post(blog_post):\n",
    "    # ...\n",
    "\n",
    "render_blog_post(blog_post1)b"
   ]
  },
  {
   "cell_type": "markdown",
   "metadata": {},
   "source": [
    "### 6. Don't use flags in functions"
   ]
  },
  {
   "cell_type": "markdown",
   "metadata": {},
   "source": [
    "**Flags are variables (usually booleans) passed to functions, which the function uses to determine its behavior. They are considered bad design because functions should only perform one task. The easiest way to avoid flags is to split your function into smaller functions.**"
   ]
  },
  {
   "cell_type": "code",
   "execution_count": null,
   "metadata": {},
   "outputs": [],
   "source": [
    "text = \"This is a cool blog post.\"\n",
    "\n",
    "\n",
    "# This is bad\n",
    "def transform(text, uppercase):\n",
    "    if uppercase:\n",
    "        return text.upper()\n",
    "    else:\n",
    "        return text.lower()\n",
    "\n",
    "uppercase_text = transform(text, True)\n",
    "lowercase_text = transform(text, False)\n",
    "\n",
    "\n",
    "# This is good\n",
    "def uppercase(text):\n",
    "    return text.upper()\n",
    "\n",
    "def lowercase(text):\n",
    "    return text.lower()\n",
    "\n",
    "uppercase_text = uppercase(text)\n",
    "lowercase_text = lowercase(text)"
   ]
  },
  {
   "cell_type": "markdown",
   "metadata": {},
   "source": [
    "### 7. Avoid side effects"
   ]
  },
  {
   "cell_type": "markdown",
   "metadata": {},
   "source": [
    "**A function produces a side effect if it does anything other than take a value in and return another value or values. For example, a side effect could be writing to a file or modifying a global variable.**"
   ]
  },
  {
   "cell_type": "markdown",
   "metadata": {},
   "source": [
    "## Comments"
   ]
  },
  {
   "cell_type": "markdown",
   "metadata": {},
   "source": [
    "### 1. Don't comment bad code, rewrite it"
   ]
  },
  {
   "cell_type": "markdown",
   "metadata": {},
   "source": [
    "**Commenting bad code -- i.e., # TODO: RE-WRITE THIS TO BE BETTER -- only helps you in the short term. Sooner or later one of your colleagues will have to work with your code and they'll end up rewriting it after spending multiple hours trying to figure out what it does.**"
   ]
  },
  {
   "cell_type": "markdown",
   "metadata": {},
   "source": [
    "### 2. Readable code doesn't need comments"
   ]
  },
  {
   "cell_type": "markdown",
   "metadata": {},
   "source": [
    "**If your code is readable enough you don't need comments. Adding useless comments will only make your code less readable. Here's a bad example:**"
   ]
  },
  {
   "cell_type": "code",
   "execution_count": null,
   "metadata": {},
   "outputs": [],
   "source": [
    "# This checks if the user with the given ID doesn't exist.\n",
    "if not User.objects.filter(id=user_id).exists():\n",
    "    return Response({\n",
    "        'detail': 'The user with this ID does not exist.',\n",
    "    })"
   ]
  },
  {
   "cell_type": "markdown",
   "metadata": {},
   "source": [
    "**As a general rule, if you need to add comments, they should explain \"why\" you did something rather than \"what\" is happening.**"
   ]
  },
  {
   "cell_type": "markdown",
   "metadata": {},
   "source": [
    "### 3. Don't add noise comments"
   ]
  },
  {
   "cell_type": "markdown",
   "metadata": {},
   "source": [
    "**Don't add comments that do not add anything of value to the code. This is bad:**"
   ]
  },
  {
   "cell_type": "code",
   "execution_count": 17,
   "metadata": {
    "ExecuteTime": {
     "end_time": "2021-12-19T14:40:49.622744Z",
     "start_time": "2021-12-19T14:40:49.616759Z"
    }
   },
   "outputs": [
    {
     "name": "stdout",
     "output_type": "stream",
     "text": [
      "3.0\n"
     ]
    }
   ],
   "source": [
    "numbers = [1, 2, 3, 4, 5]\n",
    "\n",
    "# This variable stores the average of list of numbers.\n",
    "average = sum(numbers) / len(numbers)\n",
    "print(average)"
   ]
  },
  {
   "cell_type": "markdown",
   "metadata": {},
   "source": [
    "### 4. Use the correct types of comments"
   ]
  },
  {
   "cell_type": "markdown",
   "metadata": {},
   "source": [
    "**Most programming languages have different comment types. Learn their differences and use them accordingly. You should also learn the comment documentation syntax. A good example:**"
   ]
  },
  {
   "cell_type": "code",
   "execution_count": null,
   "metadata": {},
   "outputs": [],
   "source": [
    "def model_to_dict(instance, fields=None, exclude=None):\n",
    "    \"\"\"\n",
    "    Returns a dict containing the data in ``instance`` suitable for passing as\n",
    "    a Form's ``initial`` keyword argument.\n",
    "    ``fields`` is an optional list of field names. If provided, return only the\n",
    "    named.\n",
    "    ``exclude`` is an optional list of field names. If provided, exclude the\n",
    "    named from the returned dict, even if they are listed in the ``fields``\n",
    "    argument.\n",
    "    \"\"\"\n",
    "    opts = instance._meta\n",
    "    data = {}\n",
    "    for f in chain(opts.concrete_fields, opts.private_fields, opts.many_to_many):\n",
    "        if not getattr(f, 'editable', False):\n",
    "            continue\n",
    "        if fields is not None and f.name not in fields:\n",
    "            continue\n",
    "        if exclude and f.name in exclude:\n",
    "            continue\n",
    "        data[f.name] = f.value_from_object(instance)\n",
    "    return data"
   ]
  },
  {
   "cell_type": "markdown",
   "metadata": {},
   "source": [
    "### 5. Don't leave commented out code"
   ]
  },
  {
   "cell_type": "markdown",
   "metadata": {},
   "source": [
    "**The worst thing you can do is to leave code commented out in your programs. All the debug code or debug messages should be removed before pushing to a version control system, otherwise, your colleagues will be scared of deleting it and your commented code will stay there forever.**"
   ]
  }
 ],
 "metadata": {
  "kernelspec": {
   "display_name": "Python 3",
   "language": "python",
   "name": "python3"
  },
  "language_info": {
   "codemirror_mode": {
    "name": "ipython",
    "version": 3
   },
   "file_extension": ".py",
   "mimetype": "text/x-python",
   "name": "python",
   "nbconvert_exporter": "python",
   "pygments_lexer": "ipython3",
   "version": "3.7.3"
  },
  "varInspector": {
   "cols": {
    "lenName": 16,
    "lenType": 16,
    "lenVar": 40
   },
   "kernels_config": {
    "python": {
     "delete_cmd_postfix": "",
     "delete_cmd_prefix": "del ",
     "library": "var_list.py",
     "varRefreshCmd": "print(var_dic_list())"
    },
    "r": {
     "delete_cmd_postfix": ") ",
     "delete_cmd_prefix": "rm(",
     "library": "var_list.r",
     "varRefreshCmd": "cat(var_dic_list()) "
    }
   },
   "types_to_exclude": [
    "module",
    "function",
    "builtin_function_or_method",
    "instance",
    "_Feature"
   ],
   "window_display": false
  }
 },
 "nbformat": 4,
 "nbformat_minor": 2
}
