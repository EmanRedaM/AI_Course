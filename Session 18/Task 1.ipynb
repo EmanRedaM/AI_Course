{
 "cells": [
  {
   "cell_type": "markdown",
   "metadata": {},
   "source": [
    "# Session 18\n",
    "\n",
    "## Task 1\n",
    "\n",
    "\n",
    "**Compare between SQL and Pandas ..**\n",
    "\n"
   ]
  },
  {
   "cell_type": "markdown",
   "metadata": {},
   "source": [
    "### Underlying Factors That Affect the Speed of Data Queries"
   ]
  },
  {
   "cell_type": "markdown",
   "metadata": {},
   "source": [
    "When referring to speed with data queries, the determining factors are response time and throughput. The former refers to the time required to receive an answer for an individual query. The latter refers to the number of queries that can be processed in a given time.<br><br>\n",
    "Before you can start comparing the speed of working with data using either SQL or Python, it is crucial to understand the fundamental underlying factors contributing to data query speeds on relational databases. That will help you to distinguish those factors that are language agnostic and exclude them from the calculus."
   ]
  },
  {
   "cell_type": "markdown",
   "metadata": {},
   "source": [
    "### Size of Database"
   ]
  },
  {
   "cell_type": "markdown",
   "metadata": {},
   "source": [
    "The database’s size does not directly affect data queries’ speed whether you were using SQL or Python. However, speed will be affected by the number of rows that need to be fetched in a table. Additionally, the number of requested hits and the number of hits produced by the query will make the process slower the larger they are. Additionally, whether or not sorting is required will also affect speed."
   ]
  },
  {
   "cell_type": "markdown",
   "metadata": {},
   "source": [
    "### Available Processing Speed"
   ]
  },
  {
   "cell_type": "markdown",
   "metadata": {},
   "source": [
    "The hardware used to warehouse your data will also affect speed regardless of the querying methodology used. The type of nodes, the presence or absence of solid-state drives, the central processing units’ speed, and the random access memory of the servers hosting the data will affect querying speed."
   ]
  },
  {
   "cell_type": "markdown",
   "metadata": {},
   "source": [
    "### Physical Location of Data"
   ]
  },
  {
   "cell_type": "markdown",
   "metadata": {},
   "source": [
    "When a data query needs to access databases and data tables on different servers or in different physical locations, this will slow down the query response time.\n",
    "\n",
    "It will also tie up resources on multiple servers magnifying the negative impact on speed. Due to this, NoSQL databases have started to come into use again due to their horizontal scaling efficiencies."
   ]
  },
  {
   "cell_type": "markdown",
   "metadata": {},
   "source": [
    "### Lack of Query Code Optimization"
   ]
  },
  {
   "cell_type": "markdown",
   "metadata": {},
   "source": [
    "Poorly coded queries can also result in slow response times regardless of the language being used. The more complex the query structure, the greater the chances for them to be poorly optimized. The higher the number of joined databases are involved, the longer the queries have to be."
   ]
  },
  {
   "cell_type": "markdown",
   "metadata": {},
   "source": [
    "### How To Properly Compare SQL to Python?"
   ]
  },
  {
   "cell_type": "markdown",
   "metadata": {},
   "source": [
    "Something else to consider when comparing the speed of SQL to Python in running data queries is how the comparison should be conducted. It is important to note that SQL is a declarative querying language. Python, on the other hand, is a general programming language.\n",
    "\n",
    "Comparing two such languages on an even keel would not be fair. The best way to compare SQL and Python for speed performance is to consider the Python library known as Pandas."
   ]
  },
  {
   "cell_type": "markdown",
   "metadata": {},
   "source": [
    "### What Is the Python Pandas Library?"
   ]
  },
  {
   "cell_type": "markdown",
   "metadata": {},
   "source": [
    "One of the distinctive features of the Python language is that there are a slew of supported libraries. The number of current Python libraries numbers over 137,000.\n",
    "\n",
    "A Python library is essentially a module that houses functions and pieces of code to arrive at specific solutions. The purpose of the libraries is to expedite the coding process.\n",
    "\n",
    "When dealing with data sets, one of the Python libraries of choice for analyzing, manipulating, and exploring data is the Pandas Library."
   ]
  },
  {
   "cell_type": "markdown",
   "metadata": {},
   "source": [
    "### Why and When SQL Is Faster?"
   ]
  },
  {
   "cell_type": "markdown",
   "metadata": {},
   "source": [
    "The overarching premise that SQL will be faster than Python holds provided that the query involved is simple. Once queries become more complicated, speed disparities in SQL over Python and its Pandas library do crop up.\n",
    "\n",
    "SQL will be faster under the following conditions."
   ]
  },
  {
   "cell_type": "markdown",
   "metadata": {},
   "source": [
    "#### 1- Dealing With Highly Structured and Relational Data"
   ]
  },
  {
   "cell_type": "markdown",
   "metadata": {},
   "source": [
    "SQL stands for Structured Query Language. Its very name explains its purpose and what it is best at accomplishing.\n",
    "\n",
    "SQL is excellent when dealing with relational data that is highly structured. It means that for dealing with relational database management systems, SQL will be a perfect choice.\n",
    "\n",
    "Rarely will you find speed issues being caused by SQL in a query due to the number of records involved within the relational database, provided that the mathematical operation attached to that query is simple."
   ]
  },
  {
   "cell_type": "markdown",
   "metadata": {},
   "source": [
    "#### 2- The Mathematical Operations Involved Are Kept Simple"
   ]
  },
  {
   "cell_type": "markdown",
   "metadata": {},
   "source": [
    "An example of this would be a relational database containing data on 3 million customers who have placed an aggregate of 60 million orders. Using SQL to write the queries required to find transactional information regarding the orders for a specific period or returning information regarding the average price of each order would not stress SQL.\n",
    "\n",
    "However, if you add more complex calculations or correlations, the efficiencies of SQL begin to suffer. For example, if the query involves finding the customers who purchased a specific product in conjunction with another near a particular date, the response time lag will be noticeable."
   ]
  },
  {
   "cell_type": "markdown",
   "metadata": {},
   "source": [
    "#### 3- The Need for Transforming Data Into Other Formats Is Not Present"
   ]
  },
  {
   "cell_type": "markdown",
   "metadata": {},
   "source": [
    "SQL excels at extracting data from tables. It is also very effective at joining data from multiple tables. SQL, however, experiences issues with transforming data into other formats.\n",
    "\n",
    "If there is no need to transform data in the query or manipulation, the chance for SQL to experience speed issues is decreased. Unfortunately, there are certain operations, such as those involving regression testing, statistical analysis, and data science, where such transformations are required.\n",
    "\n",
    "In those situations, you need to carefully plan using the CONVERT function and the accompanying parameter values. While the syntax for transformation is simple and straightforward, it can create response time delays when run. A proper query plan beforehand can mitigate this."
   ]
  },
  {
   "cell_type": "markdown",
   "metadata": {},
   "source": [
    "### How Can You Speed Up SQL?"
   ]
  },
  {
   "cell_type": "markdown",
   "metadata": {},
   "source": [
    "Ironically, one way to speed up SQL when it encounters response issues is to combine it with Python and its Pandas Library.\n",
    "\n",
    "As can be appreciated from the three SQL strong points listed above, it is powerful for querying but not as robust for complex calculations. However, the Pandas library is excellent for formulating and running heavy calculations but inefficient when running deep or complex data queries.\n",
    "\n",
    "Fortunately, the Pandas library contains many code snippets and functions that make processing complex calculations, not the forte of SQL, much easier and faster.\n",
    "\n",
    "Under certain circumstances, you can achieve the fastest response times by combining SQL and Python with the Pandas library. You can use SQL to run the queries to collect all of the data needed for the calculations. In other words, use SQL to query and Pandas to analyze the pulled records.\n",
    "\n",
    "Additionally, instead of using the CONVERTS function in SQL, the Pandas library offers more efficient solutions for transforming data."
   ]
  },
  {
   "cell_type": "markdown",
   "metadata": {},
   "source": [
    "### Conclusion"
   ]
  },
  {
   "cell_type": "markdown",
   "metadata": {},
   "source": [
    "Using SQL for coding data queries will result in fast response times in most use case scenarios. However, when the query’s complexity increases, the efficiencies of a declarative querying language like SQL can manifest themselves.\n",
    "\n",
    "SQL is best for querying large amounts of data in a relational database, but it is not at its strongest in conducting complex mathematical operations on the data.\n",
    "\n",
    "In conjunction with its Pandas Library, Python is more efficient for those types of complex mathematical operations. When dealing with complex data analysis, using SQL and the Pandas library can result in faster response time."
   ]
  }
 ],
 "metadata": {
  "kernelspec": {
   "display_name": "Python 3",
   "language": "python",
   "name": "python3"
  },
  "language_info": {
   "codemirror_mode": {
    "name": "ipython",
    "version": 3
   },
   "file_extension": ".py",
   "mimetype": "text/x-python",
   "name": "python",
   "nbconvert_exporter": "python",
   "pygments_lexer": "ipython3",
   "version": "3.7.3"
  },
  "varInspector": {
   "cols": {
    "lenName": 16,
    "lenType": 16,
    "lenVar": 40
   },
   "kernels_config": {
    "python": {
     "delete_cmd_postfix": "",
     "delete_cmd_prefix": "del ",
     "library": "var_list.py",
     "varRefreshCmd": "print(var_dic_list())"
    },
    "r": {
     "delete_cmd_postfix": ") ",
     "delete_cmd_prefix": "rm(",
     "library": "var_list.r",
     "varRefreshCmd": "cat(var_dic_list()) "
    }
   },
   "types_to_exclude": [
    "module",
    "function",
    "builtin_function_or_method",
    "instance",
    "_Feature"
   ],
   "window_display": false
  }
 },
 "nbformat": 4,
 "nbformat_minor": 2
}
